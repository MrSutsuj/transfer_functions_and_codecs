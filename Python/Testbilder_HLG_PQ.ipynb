{
 "cells": [
  {
   "cell_type": "code",
   "execution_count": 1,
   "metadata": {},
   "outputs": [],
   "source": [
    "import sys\n",
    "#sys.path.append('../shared/')\n",
    "#import videodisko as vd\n",
    "# Imports\n",
    "import numpy as np\n",
    "import numpy.matlib\n",
    "import numpy.random\n",
    "import matplotlib.pyplot as plt\n",
    "\n",
    "from mpl_toolkits.mplot3d import axes3d \n",
    "\n",
    "from matplotlib import pyplot as plt\n",
    "\n",
    "from scipy import ndimage\n",
    "from scipy import misc\n",
    "from scipy import fftpack\n",
    "from scipy import optimize\n",
    "import scipy.io\n",
    "import skimage\n",
    "import imageio\n",
    "import colour as c\n",
    "import math\n",
    "import csv\n",
    "\n",
    "from ipywidgets import interact, interactive, fixed, interact_manual\n",
    "import ipywidgets as widgets\n",
    "\n",
    "import pandas as pd\n",
    "\n",
    "import cv2\n",
    "import time\n",
    "\n",
    "from datetime import datetime\n",
    "\n",
    "import os\n",
    "from fnmatch import fnmatch\n",
    "\n",
    "import numpy as np\n",
    "import matplotlib.pyplot as plt\n",
    "from matplotlib.colors import ListedColormap\n",
    "\n",
    "import os\n",
    "from fnmatch import fnmatch\n",
    "import os\n",
    "from fnmatch import fnmatch\n",
    "from matplotlib.patches import Rectangle\n",
    "import re\n",
    "import numpy as np\n",
    "import matplotlib.pyplot as plt\n",
    "from matplotlib.colors import ListedColormap\n",
    "from matplotlib.colors import LinearSegmentedColormap"
   ]
  },
  {
   "cell_type": "code",
   "execution_count": 2,
   "metadata": {},
   "outputs": [
    {
     "name": "stdout",
     "output_type": "stream",
     "text": [
      "Original Dictionary: {'key1': 1.2, 'key2': 2.5, 'key3': 3.0, 'key4': 4.2, 'key5': 5.5, 'key6': 6.0}\n",
      "Top 3 Dictionary based on values: {'key6': 6.0, 'key5': 5.5, 'key4': 4.2}\n"
     ]
    }
   ],
   "source": [
    "import sys\n",
    "#sys.path.append('../shared/')\n",
    "#import videodisko as vd\n",
    "# Imports\n",
    "import numpy as np\n",
    "import numpy.matlib\n",
    "import numpy.random\n",
    "import matplotlib.pyplot as plt\n",
    "\n",
    "from mpl_toolkits.mplot3d import axes3d \n",
    "\n",
    "from matplotlib import pyplot as plt\n",
    "\n",
    "from scipy import ndimage\n",
    "from scipy import misc\n",
    "from scipy import fftpack\n",
    "from scipy import optimize\n",
    "import scipy.io\n",
    "import skimage\n",
    "import imageio\n",
    "import colour as c\n",
    "import math\n",
    "import csv\n",
    "\n",
    "from ipywidgets import interact, interactive, fixed, interact_manual\n",
    "import ipywidgets as widgets\n",
    "\n",
    "import pandas as pd\n",
    "\n",
    "import cv2\n",
    "import time\n",
    "\n",
    "from datetime import datetime\n",
    "\n",
    "import os\n",
    "from fnmatch import fnmatch\n",
    "\n",
    "\n",
    "\n",
    "\n",
    "## Linear to sRGB\n",
    "def lin2srgb (x):\n",
    "    result = (x <= 0.0031308) * np.multiply(x,12.92) + (x > 0.0031308) * np.subtract(np.multiply(1.055,np.power(x,(1/2.4))),0.055)\n",
    "    return result\n",
    "\n",
    "\n",
    "## sRGB to Linear \n",
    "def srgb2lin (x):\n",
    "    result = (x <= 0.04045) * np.divide(x,12.92) + (x > 0.04045) * np.power(np.divide(np.add(x,0.055),1.055),2.4)\n",
    "    return result\n",
    "\n",
    "# SDR Formulas\n",
    "\n",
    "## Input Luminance between 0-1\n",
    "## Output Videosignal\n",
    "def oetf709(x): \n",
    "    return np.subtract(np.multiply(np.power(x, 0.45), 1.099), 0.099)*(0.018<= x) + np.multiply(4.5, x) * (x <0.018)\n",
    "\n",
    "def eotf1886(x, Lw = 100, Lb = 0): \n",
    "    gamma = 2.4\n",
    "    a = np.power(np.subtract(np.power(Lw, np.divide(1,gamma)),np.power(Lb, np.divide(1, gamma))), gamma)\n",
    "    b = np.divide(np.power(Lb, np.divide(1,gamma)) , np.subtract(np.power(Lw , np.divide(1,gamma)), np.power( Lb , np.divide(1, gamma))))\n",
    "    return np.multiply(a , np.power( np.maximum(np.add(x, b), 0) , gamma))\n",
    "\n",
    "def eotf1886_CRT(x, Lw = 100, Lb = 0, b = 0): \n",
    "    Vc = 0.35\n",
    "    a1 = 2.6\n",
    "    a2 = 3.0\n",
    "    k = np.subtract(Lw,np.power(np.add(1,b),a1))\n",
    "    return (x < Vc) * np.multiply(np.multiply(k,np.power(np.add(Vc,b),np.subtract(a1,a2))),np.power(np.add(x,b),a2)) + (Vc <= x) * np.multiply(k,np.power(np.add(x,b),a1))\n",
    "\n",
    "## Luma Formulas for Rec2020 / Rec709 -> Fixed Addition\n",
    "def luma709(img): \n",
    "    return np.multiply(img[:,:,0],0.2126) + np.multiply(img[:,:,1],0.7152) + np.multiply(img[:,:,2],0.0722)\n",
    "def luma2020(img): \n",
    "    return np.multiply(img[:,:,0],0.2627) + np.multiply(img[:,:,1],0.6780) + np.multiply(img[:,:,2],0.0593)\n",
    "\n",
    "## Formulas for PQ\n",
    "\n",
    "# increasing rec.709 formulas \n",
    "def steroids709(x): \n",
    "    return np.subtract(np.multiply(np.power(np.multiply(59.5208 , x), 0.45), 1.099), 0.099)*(0.0003024< x) + np.multiply(267.84, x) * (x <= 0.0003024)\n",
    "\n",
    "def steroids1886(x): \n",
    "    return np.multiply(100, np.power(x, 2.4))\n",
    "\n",
    "\n",
    "## Transportfunctions\n",
    "\n",
    "def pq_eotf(x): \n",
    "    ##m1\n",
    "    m1 = np.divide(2610, 16384) ## 2^14 = 16384\n",
    "    m2 = np.multiply(np.divide(2523, 4096), 128) ##2^12 = 4096 , 2^7 = 128 -> Jan fragen\n",
    "    c1 = np.divide(3424, 4096)\n",
    "    c2 = np.multiply(np.divide(2413, 4096), 32)\n",
    "    c3 = np.multiply(np.divide(2392, 4096), 32)\n",
    "\n",
    "    \n",
    "    return np.multiply(np.power(np.divide(np.maximum( np.subtract( np.power(x , np.divide(1 , m2)), c1) , 0) , np.subtract(c2, np.multiply(c3 , np.power(x , np.divide(1 , m2))))) , np.divide(1, m1)), 10000)\n",
    "\n",
    "## Inverse_eotf\n",
    "\n",
    "def pq_eotf_inv(x): \n",
    "    m1 = np.divide(2610, 16384) ## 2^14 = 16384\n",
    "    m2 = np.multiply(np.divide(2523, 4096), 128) ##2^12 = 4096 , 2^7 = 128 -> Jan fragen\n",
    "    c1 = np.divide(3424, 4096)\n",
    "    c2 = np.multiply(np.divide(2413, 4096), 32)\n",
    "    c3 = np.multiply(np.divide(2392, 4096), 32)\n",
    "\n",
    "    y = np.divide(x , 10000) ## Normalisierung auf 0.00 bis 1.0\n",
    "\n",
    "    return np.power( np.divide(np.add(c1 , np.multiply(c2 , np.power(y , m1))), np.add(1 , np.multiply(c3 , np.power(y , m1)))), m2)\n",
    "\n",
    "# RGB Input\n",
    "def hlg_oetf(x): \n",
    "    a = 0.17883277\n",
    "    b = np.subtract(1 , np.multiply(4 , a))\n",
    "    c = np.subtract(0.5 , np.multiply(a , np.log(np.multiply(4 , a))))\n",
    "\n",
    "    return np.where(x <= np.divide(1,12), np.sqrt(np.multiply(3,x )), np.add( np.multiply(a , np.log(np.subtract( np.multiply(12 , x ), b))) , c) )\n",
    "\n",
    "def hlg_oetf_inv(x):\n",
    "    a = 0.17883277\n",
    "    b = np.subtract(1 , np.multiply(4 , a))\n",
    "    c = np.subtract(0.5 , np.multiply(a , np.log(np.multiply(4 , a))))\n",
    "    \n",
    "    return np.where(x <= 0.5 , np.divide( np.power(x,2), 3), np.divide(np.add(np.exp(np.divide(np.subtract(x , c), a)), b) , 12) )\n",
    "\n",
    "## Lw = Usergain, nominal peak Luminance of the display (achromatic)\n",
    "def hlg_ootf(x, Lw): \n",
    "    r = x[: , : , 0]\n",
    "    g = x[: , : , 1]\n",
    "    b = x[: , : , 2]\n",
    "    luma = np.add(np.multiply(0.2627 ,r ), np.multiply(0.678 , g), np.multiply(0.0593 , b))\n",
    "    alpha = Lw\n",
    "    gamma = np.add(1.2, np.multiply(0.42 , np.log10(np.divide(Lw,1000))))\n",
    "    rd = np.multiply( alpha , np.power(luma , np.subtract(gamma , 1)), r)\n",
    "    gd = np.multiply( alpha , np.power(luma , np.subtract(gamma , 1)), g)\n",
    "    bd = np.multiply( alpha , np.power(luma , np.subtract(gamma , 1)), b)\n",
    "    return np.stack((rd , gd , bd))\n",
    "\n",
    "## Lw = Usergain, nominal peak Luminance of the display (achromatic)\n",
    "def hlg_ootf_bw(x, Lw=1000): \n",
    "    alpha = Lw\n",
    "    gamma = np.add(1.2, np.multiply(0.42 , np.log10(np.divide(Lw,1000))))\n",
    "    return np.multiply(np.multiply( alpha , np.power(x , np.subtract(gamma , 1))),x)\n",
    "\n",
    "def hlg_eotf(x, Lw = 1000, Lb = 0.005):\n",
    "    gamma = np.add(1.2, np.multiply(0.42 , np.log10(np.divide(Lw,1000))))\n",
    "    beta = np.sqrt(np.multiply(3 , np.power(np.divide(Lb , Lw), np.divide(1,gamma))))\n",
    "    return hlg_ootf_bw(hlg_oetf_inv(np.maximum(0 , (np.add( np.multiply( np.subtract(1 , beta), x ), beta)))), Lw)\n",
    "\n",
    "\n",
    "def slog3oetf(x): \n",
    "    # reflection add\n",
    "    x = x*0.9\n",
    "\n",
    "    return (x < 0.01125)* np.divide( np.add( np.multiply(x , np.divide(np.subtract(171.2102946929, 95), 0.01125)), 95), 1023) + (x >= 0.01125)* np.divide(np.add(420 , np.multiply( np.log10(np.divide(np.add(x,0.01), np.add(0.18, 0.01))), 261.5)), 1023)\n",
    "\n",
    "def slog3eotf(x): \n",
    "    return (x >= np.divide(171.2102946929,1023)) * np.subtract( np.multiply(np.power(10 , np.divide( np.subtract(420 , np.multiply(x , 1023)) , 261.5)) , np.add(0.18 , 0.01)) , 0.01) + (x < np.divide(171.2102946929,1023)) * np.multiply(np.subtract(np.multiply(x , 1023), 95 ) , np.divide(0.01125 , np.subtract(171.2102946929 , 95)))\n",
    "\n",
    "# These are the ARRI LogCv3 Formulas\n",
    "def lin2logc(x):\n",
    "    return np.multiply(x > 0.010591, 0.24719 * np.log10(5.555556 * x + 0.052272) + 0.385537) + np.multiply(x <= 0.010591, 5.367655 * x + 0.092809)\n",
    "def logc2lin(x):\n",
    "    return np.multiply(x > 0.149659, (np.power(10.0, (x - 0.385537) / 0.247189) - 0.052272) / 5.555556) + np.multiply(x <= 0.149659, (x - 0.092809) / 5.367650)\n",
    "\n",
    "\n",
    "### LOG C4\n",
    "def Encoding_LogC4(x):\n",
    "    a = (np.power(2.0, 18.0) - 16.0) / 117.45\n",
    "    b = (1023.0 - 95.0) / 1023.0\n",
    "    c = 95.0 / 1023.0\n",
    "    s = (7 * np.log(2) * np.power(2.0, 7 - 14 * c / b)) / (a * b)\n",
    "    t = (np.power(2.0, 14.0 * (-c / b) + 6.0) - 64.0) / a\n",
    "    return (x < t) * np.divide(np.subtract(x,t),s) + (x >= t) * np.add(np.multiply(np.divide( np.subtract(np.log2(np.add(np.multiply(a,x),64.0)),6.0),14.0),b),c)\n",
    "\n",
    "def Decoding_LogC4(x):\n",
    "    a = (np.power(2.0, 18.0) - 16.0) / 117.45\n",
    "    b = (1023.0 - 95.0) / 1023.0\n",
    "    c = 95.0 / 1023.0\n",
    "    s = (7 * np.log(2) * np.power(2.0, 7 - 14 * c / b)) / (a * b)\n",
    "    t = (np.power(2.0, 14.0 * (-c / b) + 6.0) - 64.0) / a\n",
    "    return (x < 0.0) * np.add(np.multiply(x,s),t) + (x >= 0.0) * np.divide(np.subtract(np.power(2.0, np.add(np.multiply(14,np.divide(np.subtract(x,c),b)),6)),64.0),a)\n",
    "\n",
    "\n",
    "def full2legal(x):\n",
    "    return (219*(x)+16)*np.power(2,(10-8))\n",
    "\n",
    "def legal2full(x):\n",
    "    return (((x/np.power(2,(10-8)))-16)/219)\n",
    "\n",
    "def lin2log2(x):\n",
    "    return np.log2(x)\n",
    "\n",
    "def log22lin(x):\n",
    "    return np.power(2,x)\n",
    "\n",
    "def Blenden_Differenz(num1, num2):\n",
    "    new2 = num2 / num1\n",
    "    return np.log2(new2)\n",
    "\n",
    "def mse_calculation(imageA, imageB):\n",
    "    # Expects Luma Images\n",
    "\terr = np.mean(np.square(np.subtract(imageA,imageB)))\n",
    "\treturn err\n",
    "\n",
    "\n",
    "\n",
    "\n",
    "def BT2020_Linear_to_ICtCp(original):\n",
    "    ictcp_array = np.zeros((np.shape(original)))\n",
    "\n",
    "    L1 = (1688*original[:,:,0] + 2146*original[:,:,1] + 262*original[:,:,2])/4096\n",
    "    M1 = (683*original[:,:,0] + 2951*original[:,:,1] + 462*original[:,:,2])/4096\n",
    "    S1 = (99*original[:,:,0] + 309*original[:,:,1] + 3688*original[:,:,2])/4096\n",
    "\n",
    "    L1_Mapped = c.models.eotf_inverse_ST2084(L1)\n",
    "    M1_Mapped = c.models.eotf_inverse_ST2084(M1)\n",
    "    S1_Mapped = c.models.eotf_inverse_ST2084(S1)\n",
    "\n",
    "    ictcp_array[:,:,0] = 0.5*L1_Mapped+0.5*M1_Mapped\n",
    "    ictcp_array[:,:,1] =(6610*L1_Mapped - 13613*M1_Mapped + 7003*S1_Mapped)/4096\n",
    "    ictcp_array[:,:,2] =(17933*L1_Mapped - 17390*M1_Mapped - 543*S1_Mapped)/4096\n",
    "\n",
    "    return ictcp_array\n",
    "\n",
    "\n",
    "\n",
    "\n",
    "\n",
    "\n",
    "import numpy as np\n",
    "\n",
    "def flatten_and_reshape_array(original_array, new_shape):\n",
    "    flattened_array = np.array(original_array).flatten()\n",
    "    reshaped_array = flattened_array[:np.prod(new_shape)].reshape(new_shape)\n",
    "    return reshaped_array\n",
    "\n",
    "# Create a sample 2D array\n",
    "sample_2d_array = np.random.randint(1, 10, size=(8, 10))\n",
    "\n",
    "# Specify the new shape (for example, 4x20)\n",
    "new_shape = (1080, 1920)\n",
    "\n",
    "\n",
    "\n",
    "\n",
    "\n",
    "\n",
    "import numpy as np\n",
    "\n",
    "def create_dict_from_arrays(array1, array2):\n",
    "    # Ensure both arrays have the same size\n",
    "    assert array1.shape == array2.shape, \"Arrays must have the same size\"\n",
    "\n",
    "    # Create a dictionary using a dictionary comprehension\n",
    "    result_dict = {array1[i, j]: array2[i, j] for i in range(array1.shape[0]) for j in range(array1.shape[1])}\n",
    "\n",
    "    return result_dict\n",
    "\n",
    "# # Example arrays (replace with your actual arrays)\n",
    "# array1 = np.array([[1, 2, 3], [4, 5, 6]])\n",
    "# array2 = np.array([[10, 20, 30], [40, 50, 60]])\n",
    "\n",
    "\n",
    "\n",
    "\n",
    "\n",
    "import csv\n",
    "\n",
    "def read_csv_into_2d_array(file_path):\n",
    "    with open(file_path, 'r') as csvfile:\n",
    "        csvreader = csv.reader(csvfile)\n",
    "        # Use list comprehension to create a 2D array from the CSV rows\n",
    "        csv_data_2d_array = [row for row in csvreader]\n",
    "\n",
    "    return csv_data_2d_array\n",
    "\n",
    "\n",
    "\n",
    "\n",
    "\n",
    "def remove_items_below_threshold(dictionary, threshold):\n",
    "    # Use a dictionary comprehension to filter key-value pairs based on the threshold\n",
    "    filtered_dict = {key: value for key, value in dictionary.items() if value >= threshold}\n",
    "\n",
    "    return filtered_dict\n",
    "\n",
    "\n",
    "\n",
    "\n",
    "import heapq\n",
    "\n",
    "def get_top_n_items(dictionary, n):\n",
    "    # Use heapq.nlargest to get the top n key-value pairs based on values\n",
    "    top_n_items = heapq.nlargest(n, dictionary.items(), key=lambda item: item[1])\n",
    "\n",
    "    # Convert the result back to a dictionary\n",
    "    top_n_dict = dict(top_n_items)\n",
    "\n",
    "    return top_n_dict\n",
    "\n",
    "# Example usage:\n",
    "my_dict = {'key1': 1.2, 'key2': 2.5, 'key3': 3.0, 'key4': 4.2, 'key5': 5.5, 'key6': 6.0}\n",
    "top_n = 3  # Change this to 20000 for your specific case\n",
    "\n",
    "top_n_dict = get_top_n_items(my_dict, top_n)\n",
    "\n",
    "print(\"Original Dictionary:\", my_dict)\n",
    "print(f\"Top {top_n} Dictionary based on values:\", top_n_dict)\n",
    "\n",
    "\n",
    "\n",
    "\n",
    "\n"
   ]
  },
  {
   "cell_type": "code",
   "execution_count": 3,
   "metadata": {},
   "outputs": [
    {
     "name": "stdout",
     "output_type": "stream",
     "text": [
      "Folder '/Volumes/JM_SSD/61.2_Auswertung_Matlab_Neu/HLG_HD_vs_HLG_FR/02_ProRes_422HQ/12.1_TRANSFORMED_HLG_FR_UHD/ARRI_Encounters/5_F002C012_220412_R07V' and its contents successfully deleted.\n",
      "Folder '/Volumes/JM_SSD/61.2_Auswertung_Matlab_Neu/HLG_HD_vs_HLG_FR/09_DNxHD_365/12.1_TRANSFORMED_HLG_FR_UHD/ARRI_Encounters/5_F002C012_220412_R07V' and its contents successfully deleted.\n",
      "Folder '/Volumes/JM_SSD/61.2_Auswertung_Matlab_Neu/HLG_vs_PQ/02_ProRes_422HQ/11.1_TRANSFORMED_PQ_FR_UHD/ARRI_Encounters/5_F002C012_220412_R07V' and its contents successfully deleted.\n",
      "Folder '/Volumes/JM_SSD/61.2_Auswertung_Matlab_Neu/HLG_vs_PQ/03.2_JPEG_2000_Level_4/11.1_TRANSFORMED_PQ_FR_UHD/ARRI_Encounters/5_F002C012_220412_R07V' and its contents successfully deleted.\n",
      "Folder '/Volumes/JM_SSD/61.2_Auswertung_Matlab_Neu/HLG_vs_PQ/04_XAVC_Class_100/11.1_TRANSFORMED_PQ_FR_UHD/ARRI_Encounters/5_F002C012_220412_R07V' and its contents successfully deleted.\n",
      "Folder '/Volumes/JM_SSD/61.2_Auswertung_Matlab_Neu/HLG_vs_PQ/05_HEVC/11.1_TRANSFORMED_PQ_FR_UHD/ARRI_Encounters/5_F002C012_220412_R07V' and its contents successfully deleted.\n",
      "Folder '/Volumes/JM_SSD/61.2_Auswertung_Matlab_Neu/HLG_vs_PQ/06_XDCAM_HD422/11.1_TRANSFORMED_PQ_FR_UHD/ARRI_Encounters/5_F002C012_220412_R07V' and its contents successfully deleted.\n",
      "Folder '/Volumes/JM_SSD/61.2_Auswertung_Matlab_Neu/HLG_vs_PQ/07_DNxHR_444/11.1_TRANSFORMED_PQ_FR_UHD/ARRI_Encounters/5_F002C012_220412_R07V' and its contents successfully deleted.\n",
      "Folder '/Volumes/JM_SSD/61.2_Auswertung_Matlab_Neu/HLG_vs_PQ/08_DNxHR_422/11.1_TRANSFORMED_PQ_FR_UHD/ARRI_Encounters/5_F002C012_220412_R07V' and its contents successfully deleted.\n",
      "Folder '/Volumes/JM_SSD/61.2_Auswertung_Matlab_Neu/HLG_vs_PQ/09_DNxHD_365/11.1_TRANSFORMED_PQ_FR_UHD/ARRI_Encounters/5_F002C012_220412_R07V' and its contents successfully deleted.\n",
      "Folder '/Volumes/JM_SSD/61.2_Auswertung_Matlab_Neu/HLG_vs_PQ/01_ProRes_4444/11.1_TRANSFORMED_PQ_FR_UHD/ARRI_Encounters/5_F002C012_220412_R07V' and its contents successfully deleted.\n",
      "Folder '/Volumes/JM_SSD/61.2_Auswertung_Matlab_Neu/HLG_vs_PQ/03.1_JPEG_2000_Level_1/11.1_TRANSFORMED_PQ_FR_UHD/ARRI_Encounters/5_F002C012_220412_R07V' and its contents successfully deleted.\n",
      "Folder '/Volumes/JM_SSD/61.2_Auswertung_Matlab_Neu/PQ_HD_vs_PQ_FR/01_ProRes_4444/11.1_TRANSFORMED_PQ_FR_UHD/ARRI_Encounters/5_F002C012_220412_R07V' and its contents successfully deleted.\n",
      "Folder '/Volumes/JM_SSD/61.2_Auswertung_Matlab_Neu/PQ_HD_vs_PQ_FR/01_ProRes_4444/11.2_TRANSFORMED_PQ_FR_P3Lim_UHD/ARRI_Encounters/5_F002C012_220412_R07V' and its contents successfully deleted.\n",
      "Folder '/Volumes/JM_SSD/61.2_Auswertung_Matlab_Neu/PQ_HD_vs_PQ_FR/02_ProRes_422HQ/11.1_TRANSFORMED_PQ_FR_UHD/ARRI_Encounters/5_F002C012_220412_R07V' and its contents successfully deleted.\n",
      "Folder '/Volumes/JM_SSD/61.2_Auswertung_Matlab_Neu/PQ_HD_vs_PQ_FR/02_ProRes_422HQ/11.2_TRANSFORMED_PQ_FR_P3Lim_UHD/ARRI_Encounters/5_F002C012_220412_R07V' and its contents successfully deleted.\n",
      "Folder '/Volumes/JM_SSD/61.2_Auswertung_Matlab_Neu/PQ_HD_vs_PQ_FR/03.1_JPEG_2000_Level_1/11.1_TRANSFORMED_PQ_FR_UHD/ARRI_Encounters/5_F002C012_220412_R07V' and its contents successfully deleted.\n",
      "Folder '/Volumes/JM_SSD/61.2_Auswertung_Matlab_Neu/PQ_HD_vs_PQ_FR/03.1_JPEG_2000_Level_1/11.2_TRANSFORMED_PQ_FR_P3Lim_UHD/ARRI_Encounters/5_F002C012_220412_R07V' and its contents successfully deleted.\n",
      "Folder '/Volumes/JM_SSD/61.2_Auswertung_Matlab_Neu/PQ_HD_vs_PQ_FR/03.2_JPEG_2000_Level_4/11.1_TRANSFORMED_PQ_FR_UHD/ARRI_Encounters/5_F002C012_220412_R07V' and its contents successfully deleted.\n",
      "Folder '/Volumes/JM_SSD/61.2_Auswertung_Matlab_Neu/PQ_HD_vs_PQ_FR/03.2_JPEG_2000_Level_4/11.2_TRANSFORMED_PQ_FR_P3Lim_UHD/ARRI_Encounters/5_F002C012_220412_R07V' and its contents successfully deleted.\n",
      "Folder '/Volumes/JM_SSD/61.2_Auswertung_Matlab_Neu/PQ_HD_vs_PQ_FR/04_XAVC_Class_100/11.1_TRANSFORMED_PQ_FR_UHD/ARRI_Encounters/5_F002C012_220412_R07V' and its contents successfully deleted.\n",
      "Folder '/Volumes/JM_SSD/61.2_Auswertung_Matlab_Neu/PQ_HD_vs_PQ_FR/04_XAVC_Class_100/11.2_TRANSFORMED_PQ_FR_P3Lim_UHD/ARRI_Encounters/5_F002C012_220412_R07V' and its contents successfully deleted.\n",
      "Folder '/Volumes/JM_SSD/61.2_Auswertung_Matlab_Neu/PQ_HD_vs_PQ_FR/05_HEVC/11.1_TRANSFORMED_PQ_FR_UHD/ARRI_Encounters/5_F002C012_220412_R07V' and its contents successfully deleted.\n",
      "Folder '/Volumes/JM_SSD/61.2_Auswertung_Matlab_Neu/PQ_HD_vs_PQ_FR/05_HEVC/11.2_TRANSFORMED_PQ_FR_P3Lim_UHD/ARRI_Encounters/5_F002C012_220412_R07V' and its contents successfully deleted.\n",
      "Folder '/Volumes/JM_SSD/61.2_Auswertung_Matlab_Neu/PQ_HD_vs_PQ_FR/06_XDCAM_HD422/11.1_TRANSFORMED_PQ_FR_UHD/ARRI_Encounters/5_F002C012_220412_R07V' and its contents successfully deleted.\n",
      "Folder '/Volumes/JM_SSD/61.2_Auswertung_Matlab_Neu/PQ_HD_vs_PQ_FR/06_XDCAM_HD422/11.2_TRANSFORMED_PQ_FR_P3Lim_UHD/ARRI_Encounters/5_F002C012_220412_R07V' and its contents successfully deleted.\n",
      "Folder '/Volumes/JM_SSD/61.2_Auswertung_Matlab_Neu/PQ_HD_vs_PQ_FR/07_DNxHR_444/11.1_TRANSFORMED_PQ_FR_UHD/ARRI_Encounters/5_F002C012_220412_R07V' and its contents successfully deleted.\n",
      "Folder '/Volumes/JM_SSD/61.2_Auswertung_Matlab_Neu/PQ_HD_vs_PQ_FR/07_DNxHR_444/11.2_TRANSFORMED_PQ_FR_P3Lim_UHD/ARRI_Encounters/5_F002C012_220412_R07V' and its contents successfully deleted.\n",
      "Folder '/Volumes/JM_SSD/61.2_Auswertung_Matlab_Neu/PQ_HD_vs_PQ_FR/08_DNxHR_422/11.1_TRANSFORMED_PQ_FR_UHD/ARRI_Encounters/5_F002C012_220412_R07V' and its contents successfully deleted.\n",
      "Folder '/Volumes/JM_SSD/61.2_Auswertung_Matlab_Neu/PQ_HD_vs_PQ_FR/08_DNxHR_422/11.2_TRANSFORMED_PQ_FR_P3Lim_UHD/ARRI_Encounters/5_F002C012_220412_R07V' and its contents successfully deleted.\n",
      "Folder '/Volumes/JM_SSD/61.2_Auswertung_Matlab_Neu/PQ_HD_vs_PQ_FR/09_DNxHD_365/11.1_TRANSFORMED_PQ_FR_UHD/ARRI_Encounters/5_F002C012_220412_R07V' and its contents successfully deleted.\n",
      "Folder '/Volumes/JM_SSD/61.2_Auswertung_Matlab_Neu/PQ_HD_vs_PQ_FR/09_DNxHD_365/11.2_TRANSFORMED_PQ_FR_P3Lim_UHD/ARRI_Encounters/5_F002C012_220412_R07V' and its contents successfully deleted.\n",
      "Folder '/Volumes/JM_SSD/61.2_Auswertung_Matlab_Neu/HLG_vs_PQ_UHD/01_ProRes_4444/11.1_TRANSFORMED_PQ_FR_UHD/ARRI_Encounters/5_F002C012_220412_R07V' and its contents successfully deleted.\n"
     ]
    }
   ],
   "source": [
    "import shutil\n",
    "import os\n",
    "\n",
    "def delete_folder_recursive(root_directory, folder_to_delete):\n",
    "    for root, dirs, files in os.walk(root_directory, topdown=False):\n",
    "        for current_dir in dirs:\n",
    "            if current_dir == folder_to_delete:\n",
    "                folder_path = os.path.join(root, current_dir)\n",
    "                try:\n",
    "                    shutil.rmtree(folder_path)\n",
    "                    print(f\"Folder '{folder_path}' and its contents successfully deleted.\")\n",
    "                except OSError as e:\n",
    "                    print(f\"Error: {e}\")\n",
    "\n",
    "# Specify the path to the root directory where you want to search and delete the folder\n",
    "root_directory = '/Volumes/JM_SSD/61.2_Auswertung_Matlab_Neu'\n",
    "\n",
    "# Specify the folder name you want to delete\n",
    "folder_to_delete = '5_F002C012_220412_R07V'\n",
    "\n",
    "# Call the function to delete the folder recursively\n",
    "delete_folder_recursive(root_directory, folder_to_delete)\n"
   ]
  },
  {
   "cell_type": "code",
   "execution_count": 101,
   "metadata": {},
   "outputs": [
    {
     "name": "stdout",
     "output_type": "stream",
     "text": [
      "[[0.0049999999999999992, 0.0055938061006096211], [0.0063600138789661519, 0.0063938605542215032], [0.007914423792992991, 0.0081702404049783066], [0.0096704508576944768, 0.01018996717705101], [0.011634947263367055, 0.011294311088322583], [0.013814442674438035, 0.013698634410638604], [0.016215181823826696, 0.016372979320192559], [0.01884315546125297, 0.019328667293666751], [0.021704126180476645, 0.020915647321149398], [0.024803650229695558, 0.024315328582558492], [0.028147096122026979, 0.028026146140639759], [0.031739660661892329, 0.032060599062800739], [0.035586382859271619, 0.036431517331512009], [0.039692156098895828, 0.038747251223081848], [0.044061738853640453, 0.043647652206005215], [0.048699764172779859, 0.048918055800086568], [0.053610748131010272, 0.054572471765236268], [0.058799097389545057, 0.057548157239613706], [0.064269115993519935, 0.063805621261669443], [0.070025011508557444, 0.070483654007394952], [0.076070900582272311, 0.077597506722840909], [0.082410814002762456, 0.081322732341681053], [0.089048701314980938, 0.089119720620126547], [0.095988435046768614, 0.097392287726600274], [0.10323381458881997, 0.1017120776725406], [0.11078856976663291, 0.110729214239187], [0.11865636413730499, 0.12026411038452339], [0.12684079803968479, 0.12523119523108581], [0.13534541142272052, 0.13557581862170576], [0.14417368647373402, 0.14648292773759625], [0.15332905006570183, 0.1521532201207173], [0.16281487604035955, 0.16393912996018434], [0.17263448734199771, 0.17005957014969073], [0.1827911580151399, 0.18276768872604268], [0.19328811507784016, 0.19611548180032784], [0.20412854028107233, 0.20303562402888323], [0.21531557176358571, 0.21738139370961035], [0.2268523056106336, 0.22481230872862396], [0.23874179732413989, 0.24020364682914222], [0.25098706321112163, 0.24816954182683804], [0.26359108169653067, 0.26465569941817901], [0.27655679456609439, 0.27318162401545587], [0.28988710814422053, 0.29081356307129014], [0.30358489441157138, 0.29992543553248113], [0.31765299206650455, 0.31875588213564704], [0.33209420753420998, 0.32848051636803988], [0.34691131592704516, 0.34856401551230981], [0.3621070619592785, 0.35892914887255506], [0.37768416081918249, 0.3803221208973423], [0.39364529900118383, 0.3913564428244688], [0.40999313510055835, 0.41411724152430185], [0.42673030057296568, 0.425850423021012], [0.44385940046094285, 0.43782332527145901], [0.46138301408931209, 0.46250211945949998], [0.47930369573131909, 0.47521502208323824], [0.497623975247175, 0.50140566018107569], [0.51634635869656431, 0.51489064408591245], [0.53547332892656452, 0.52864030430427467], [0.55500734613632363, 0.55694859921276596], [0.57495084841974764, 0.57151481075568178], [0.59530625228736933, 0.60149062086023353], [0.61607595316848474, 0.61690805144417593], [0.6372623258945771, 0.63261712612604171], [0.65886772516498027, 0.66492635334110683], [0.68089448599567326, 0.68153469035310343], [0.70334492415203909, 0.69845104132560032], [0.72622133656637022, 0.73322465541381732], [0.74952600174085882, 0.75109046994771145], [0.77326118013675282, 0.769281402219399], [0.79742911455034049, 0.80665624468942732], [0.82203203047635831, 0.82584908830055015], [0.84707213645940671, 0.84538491745295063], [0.87255162443391154, 0.86526832211797089], [0.89847267005314235, 0.90609646939192601], [0.92483743300776955, 0.92705064498673384], [0.95164805733441293, 0.9483712630925254], [0.97890667171461787, 0.97006316980382423], [1.0066153897646566, 1.0145804978625634], [1.0347763103165499, 1.037415877439009], [1.0633915176906648, 1.0606424631566689], [1.0924630819602381, 1.0842653703831071], [1.1219930592081531, 1.132720888838447], [1.1519834917762786, 1.1575640104859037], [1.1824364085076682, 1.1828244756106745], [1.2133538249818945, 1.2085076826576491], [1.244737743743791, 1.2346190884036488], [1.2765901545258482, 1.2881486182760824], [1.3089130344645137, 1.3155779529109939], [1.3417083483106156, 1.3434579084609697], [1.3749780486341348, 1.3717942422554705], [1.4087240760235291, 1.4005927735541401], [1.4429483592798169, 1.4298593841668508], [1.4776528156055966, 1.4898206870916635], [1.51283935078919, 1.5205274614449442], [1.5485098593840874, 1.551726480478312], [1.5846662248838448, 1.5834239482745822], [1.6213103198926053, 1.6156261353188288], [1.6584440062913859, 1.6483393791628018], [1.6960691354002784, 1.6815700850954693], [1.7341875481366995, 1.749609847139143], [1.7728010751698222, 1.7844320586428384], [1.8119115370713206, 1.8197980444087205], [1.8515207444625381, 1.8557145587043309], [1.8916304981582053, 1.8921884276992011], [1.9322425893068129, 1.9292265501823458], [1.9733587995277531, 1.9668358982876992], [2.0149809010453161, 2.0050235182262979], [2.0571106568196678, 2.0437965310255053], [2.0997498206748664, 2.0831621332761037], [2.1429001374240451, 2.1231275978857624], [2.1865633429918252, 2.204887591975484], [2.2307411645340478, 2.2466970557472021], [2.2754353205549043, 2.289136252021875], [2.320647521021558, 2.3322128468650218], [2.3663794674762997, 2.3759345873414222], [2.412632853146349, 2.4203093023227407], [2.4594093630513223, 2.4653449033023955], [2.5067106741084961, 2.5110493852198164], [2.5545384552358601, 2.5574308272906654], [2.6028943674530836, 2.6044973938478138], [2.6517800639804046, 2.6522573351880423], [2.7011971903355469, 2.7007189884292813], [2.7511473844286685, 2.7498907783745139], [2.8016322766554502, 2.7997812183857569], [2.8526534899883216, 2.8503989112649881], [2.9042126400659187, 2.9017525501451735], [2.9563113352807946, 2.9538509193895406], [3.0089511768654456, 3.0067028954993362], [3.0621337589766737, 3.0603174480311548], [3.1158606687783705, 3.1147036405228303], [3.1701334865227118, 3.1698706314287537], [3.2249537856298525, 3.2258276750647084], [3.2803231327661253, 3.2825841225609063], [3.3362430879208076, 3.3401494228252933], [3.3927152044814619, 3.3985331235168852], [3.4497410293079289, 3.4577448720271455], [3.5073221028049586, 3.5177944164725732], [3.5654599589935563, 3.5786916066960406], [3.6241561255810399, 3.6404463952787536], [3.6834121240298732, 3.7030688385618022], [3.7432294696252635, 3.7665690976772526], [3.8036096715416154, 3.8309574395914767], [3.8645542329077873, 3.8962442381559881], [3.9260646508712593, 3.8962442381559881], [3.9881424166611765, 3.9624399751704176], [4.0507890156503388, 4.0295552414559781], [4.114005927416124, 4.0976007379389463], [4.1777946258004075, 4.1665872767451813], [4.2421565789684621, 4.2365257823051028], [4.3070932494668961, 4.3074272924701633], [4.3726060942806253, 4.3793029596401425], [4.4386965648889296, 4.4521640519014127], [4.5053661073205626, 4.5260219541766302], [4.5726161622080213, 4.600888169385529], [4.6404481648408931, 4.6767743196183069], [4.7088635452183834, 4.6767743196183069], [4.7778637281009964, 4.7536921473184357], [4.8474501330614004, 4.831653516479931], [4.9176241745344988, 4.9106704138539561], [4.9883872618667233, 4.9907549501697943], [5.0597407993645538, 5.0719193613657705], [5.1316861863422982, 5.1541760098330069], [5.2042248171691359, 5.2375373856728231], [5.2773580813154588, 5.2375373856728231], [5.3510873633984835, 5.3220161079644948], [5.4254140432272093, 5.40762492604782], [5.5003394958466725, 5.4943767208163692], [5.575865091581572, 5.5822845060246316], [5.6519921960792212, 5.6713614296081616], [5.7287221703519045, 5.7616207750168451], [5.8060563708185562, 5.7616207750168451], [5.8839961493459079, 5.8530759625608271], [5.9625428532889728, 5.9457405507707577], [6.0416978255309992, 6.039628237770156], [6.1214624045228074, 6.1347528626629044], [6.2018379243216142, 6.2311284069342019], [6.2828257146292623, 6.3287689958639595], [6.3644271008299471, 6.3287689958639595], [6.446643404027399, 6.4276888999575315], [6.5294759410815457, 6.5279025363865912], [6.6129260246446764, 6.6294244704465584], [6.6969949631971071, 6.7322694170302562], [6.781684061082343, 6.7322694170302562], [6.8669946185417867, 6.8364522421118536], [6.9529279317489454, 6.9419879642503544], [7.0394852928432128, 7.0488917561032522], [7.1266679899631482, 7.1571789459602329], [7.2144773072793802, 7.2668650192892059], [7.3029145250270044, 7.2668650192892059], [7.3919809195375858, 7.3779656202965684], [7.4816777632707492, 7.4904965535063424], [7.5720063248453444, 7.6044737853536342], [7.6629678690701928, 7.7199134457929368], [7.7545636569744643, 7.7199134457929368], [7.8467949458376314, 7.8368318299231756], [7.9396629892190766, 7.9552453996307415], [8.0331690369872852, 8.0751707852456409], [8.1273143353486859, 8.0751707852456409], [8.2221001268761249, 8.1966247872164963], [8.3175276505369897, 8.3196243778023575], [8.4135981417209535, 8.4441867027790973], [8.5103128322674237, 8.5703290831674046], [8.6076729504925797, 8.5703290831674046], [8.7056797212161587, 8.6980690169716119], [8.8043343657878346, 8.8274241809420868], [8.9036381021133479, 8.958412432351178], [9.003592144680244, 8.958412432351178], [9.1041977045833615, 9.0910518107891818], [9.2054559895499786, 9.2253605399784124], [9.3073682039646801, 9.3613570296008088], [9.4099355488938947, 9.3613570296008088], [9.5131592221101915, 9.499059877152904], [9.6170404181162148, 9.6384878698091203], [9.7215803281684394, 9.7796599863118594], [9.8267801403005404, 9.7796599863118594], [9.9326410393465565, 9.9225953988754583], [10.039164206963774, 10.067313475113068], [10.146350821655327, 10.21383377997727], [10.254202058792556, 10.21383377997727], [10.362719090637119, 10.362176077728529], [10.471903086362797, 10.512360333914801], [10.581755212077121, 10.512360333914801], [10.692276630842711, 10.664406717376137], [10.803468502698385, 10.818335602268178], [10.915331984680039, 10.974167570106408], [11.0278682308413, 10.974167570106408], [11.141078392273883, 11.131923411829233], [11.254963617127855, 11.291624129884068], [11.36952505063152, 11.291624129884068], [11.484763835111238, 11.453290940331941], [11.600681110010875, 11.61694527497613], [11.717278011911162, 11.782608783510982], [11.834555674548822, 11.782608783510982], [11.952515228835404, 11.950303335688817], [12.071157802876025, 12.120051023514957], [12.190484521987861, 12.120051023514957], [12.31049650871844, 12.291874163462692], [12.431194882863734, 12.465795298704752], [12.552580761486089, 12.465795298704752], [12.674655258931935, 12.641837201377569], [12.797419486849329, 12.820022874858747], [12.92087455420533, 13.000375556075657], [13.04502156730311, 13.000375556075657], [13.169861629799039, 13.182918717828295], [13.295395842719417, 13.367676071143993], [13.42162530447721, 13.367676071143993], [13.548551110888411, 13.554671567651244], [13.676174355188484, 13.743929401980415], [13.804496128048395, 13.743929401980415], [13.933517517590646, 13.935474014183365], [14.063239609405084, 14.129330092185102], [14.193663486564549, 14.129330092185102], [14.324790229640406, 14.32552257425078], [14.456620916717842, 14.524076651489521], [14.589156623411107, 14.524076651489521], [14.722398422878538, 14.725017770370551], [14.856347385837468, 14.928371635277776], [14.991004580578968, 14.928371635277776], [15.126371072982423, 15.134164211075719], [15.262447926530072, 15.342421725716726], [15.399236202321253, 15.342421725716726], [15.536736959086655, 15.553170672863146], [15.674951253202272, 15.766437814537884], [15.813880138703439, 15.766437814537884], [15.953524667298506, 15.982250183811693], [16.09388588838257, 16.200635087499169], [16.23496484905089, 16.200635087499169], [16.376762594112403, 16.421620108902669], [16.519280166102913, 16.421620108902669], [16.662518605298214, 16.645233110566675], [16.806478949727168, 16.871502237072157], [16.951162235184569, 16.871502237072157], [17.09656949524393, 17.100455917851598], [17.242701761270101, 17.332122870038145], [17.389560062431883, 17.332122870038145], [17.537145425714368, 17.566532101339359], [17.685458875931335, 17.803712912940117], [17.834501435737405, 17.803712912940117], [17.984274125640098, 18.043694902441519], [18.134777964011889, 18.043694902441519], [18.286013967102008, 18.286507966819176], [18.437983149048279, 18.532182305423458], [18.590686521888657, 18.532182305423458], [18.744125095572937, 18.780748422996719], [18.898299877974065, 18.780748422996719], [19.053211874899596, 19.03223713273459], [19.208862090102858, 19.28667955936843], [19.365251525294134, 19.28667955936843], [19.522381180151765, 19.544107142285245], [19.680252052333014, 19.804551638672752], [19.838865137484994, 19.804551638672752], [19.99822142925537, 20.068045126707041], [20.15832191930312, 20.068045126707041], [20.319167597309033, 20.334620008762297], [20.480759450986209, 20.604309014657492], [20.643098466090507, 20.604309014657492], [20.806185626430807, 20.877145204935012], [20.970021913879261, 20.877145204935012], [21.134608308381356, 21.153161974177184], [21.299945787966088, 21.432393054349589], [21.466035328755797, 21.432393054349589], [21.632877904976155, 21.714872518183348], [21.80047448896585, 21.714872518183348], [21.968826051186408, 22.000634782589895], [22.137933560231769, 22.000634782589895], [22.307797982837833, 22.289714612109282], [22.478420283891985, 22.582147122401516], [22.649801426442412, 22.582147122401516], [22.821942371707522, 22.877967783758848], [22.994844079085091, 22.877967783758848], [23.168507506161486, 23.177212424672295], [23.342933608720738, 23.479917235415705], [23.518123340753561, 23.479917235415705], [23.694077654466312, 23.786118771681121], [23.870797500289825, 23.786118771681121], [24.048283826888259, 24.095853958244863], [24.22653758116779, 24.095853958244863], [24.405559708285328, 24.40916009267259], [24.585351151656994, 24.726074849058122], [24.7659128529668, 24.726074849058122], [24.94724575217495, 25.046636281813726], [25.129350787526349, 25.046636281813726], [25.312228895558857, 25.370882829473935], [25.49588101111155, 25.370882829473935], [25.680308067332977, 25.698853318569466], [25.865510995689181, 26.030586967518932], [26.051490725971856, 26.030586967518932], [26.238248186306297, 26.366123390563942], [26.425784303159393, 26.366123390563942], [26.61410000134742, 26.705502601753803], [26.803196204043939, 26.705502601753803], [26.99307383278753, 27.048765018959795], [27.183733807489471, 27.048765018959795], [27.375177046441426, 27.395951467938598], [27.567404466322937, 27.395951467938598], [27.760416982209065, 27.74710318643433], [27.954215507577761, 28.102261828319396], [28.14880095431737, 28.102261828319396], [28.344174232733859, 28.46146946778795], [28.540336251558216, 28.46146946778795], [28.737287917953712, 28.824768603574967], [28.935030137523015, 28.824768603574967], [29.133563814315373, 29.192202163247142], [29.332889850833677, 29.192202163247142], [29.533009148041533, 29.563813507498391], [29.733922605370225, 29.563813507498391], [29.935631120725599, 29.939646434529667], [30.138135590495033, 30.3197451844465], [30.341436909554176, 30.3197451844465], [30.545535971273807, 30.704154443712948], [30.750433667526472, 30.704154443712948], [30.956130888693266, 31.092919349647424], [31.162628523670389, 31.092919349647424], [31.369927459875797, 31.486085494972944], [31.578028583255641, 31.486085494972944], [31.78693277829089, 31.883698932401433], [31.996640928003661, 31.883698932401433], [32.207153913963666, 32.285806179273521], [32.418472616294579, 32.285806179273521], [32.630597913680312, 32.692454222246575], [32.843530683371299, 32.692454222246575], [33.057271801190709, 33.103690522028614], [33.271822141540625, 33.103690522028614], [33.487182577408149, 33.519563018160589], [33.70335398037156, 33.519563018160589], [33.920337220606285, 33.940120133850364], [34.138133166890924, 33.940120133850364], [34.356742686613273, 34.365410780851263], [34.576166645776134, 34.365410780851263], [34.79640590900334, 34.795484364400153], [35.017461339545392, 35.230390788203209], [35.239333799285532, 35.230390788203209], [35.462024148745243, 35.670180459461953], [35.685533247090149, 35.670180459461953], [35.909861952135557, 36.114904293969829], [36.13501112035226, 36.114904293969829], [36.360981606872002, 36.564613721248193], [36.587774265493117, 36.564613721248193], [36.81538994868604, 37.019360689741077], [37.04382950759878, 37.019360689741077], [37.273093792062483, 37.479197672063442], [37.503183650596675, 37.479197672063442], [37.734099930414757, 37.944177670299041], [37.965843477429367, 37.944177670299041], [38.198415136257672, 38.41435422136329], [38.431815750226583, 38.41435422136329], [38.666046161378056, 38.88978140240657], [38.901107210474329, 38.88978140240657], [39.136999737003016, 39.370513836289746], [39.373724579182351, 39.370513836289746], [39.611282573966129, 39.370513836289746], [39.849674557048999, 39.856606697110578], [40.088901362871276, 39.856606697110578], [40.328963824624175, 40.348115715776693], [40.569862774254545, 40.348115715776693], [40.811599042470007, 40.845097185648406], [41.054173458743826, 40.845097185648406], [41.297586851319679, 41.34760796825217], [41.541840047216624, 41.34760796825217], [41.78693387223386, 41.85570549901054], [42.032869150955555, 41.85570549901054], [42.279646706755543, 42.369447793090977], [42.527267361802117, 42.369447793090977], [42.775731937062638, 42.8888934512647], [43.025041252308284, 42.8888934512647], [43.275196126118686, 43.41410166584226], [43.526197375886419, 43.41410166584226], [43.778045817821763, 43.945132226696465], [44.030742266957063, 43.945132226696465], [44.284287537151471, 44.482045527307164], [44.538682441095155, 44.482045527307164], [44.793927790314022, 45.024902570897815], [45.050024395174063, 45.024902570897815], [45.30697306488571, 45.573764976609986], [45.564774607508255, 45.573764976609986], [45.823429829954279, 45.573764976609986], [46.082939537993894, 46.128694985791], [46.343304536259069, 46.128694985791], [46.604525628247863, 46.689755468284787], [46.866603616328803, 46.689755468284787], [47.129539301744991, 47.257009928828033], [47.393333484618339, 47.257009928828033], [47.657986963953725, 47.830522513503702], [47.923500537643214, 47.830522513503702], [48.189875002470075, 48.410358016266308], [48.457111154113015, 48.410358016266308], [48.725209787150057, 48.996581885527142], [48.994171695062818, 48.996581885527142], [49.263997670240329, 48.996581885527142], [49.534688503983233, 49.589260230802005], [49.806244986507551, 49.589260230802005], [50.078667906948816, 50.188459829456562], [50.351958053365948, 50.188459829456562], [50.626116212745089, 50.79424813348902], [50.901450877941677, 50.79424813348902], [51.178743185950729, 51.406693276407701], [51.458045143624865, 51.406693276407701], [51.739371769823762, 52.025864080165221], [52.022738197576977, 52.025864080165221], [52.3081596749537, 52.025864080165221], [52.595651565939335, 52.651830062176643], [52.885229351318792, 52.651830062176643], [53.176908629566192, 53.284661442404051], [53.470705117741531, 53.284661442404051], [53.766634652394437, 53.924429150513575], [54.064713190473995, 53.924429150513575], [54.364956810246404, 54.571204833115601], [54.667381712218805, 54.571204833115601], [54.972004220070758, 55.225060861079463], [55.2788407815924, 55.225060861079463], [55.587907969629697, 55.886070336917285], [55.899222483037249, 55.886070336917285], [56.212801147637911, 55.886070336917285], [56.528660917189995, 56.554307102251229], [56.84681887436161, 56.554307102251229], [57.16729223171243, 57.229845745351561], [57.490098332683075, 57.229845745351561], [57.815254652592003, 57.912761608773891], [58.142778799639487, 57.912761608773891], [58.472688515919977, 58.603130797061141], [58.805001678441577, 58.603130797061141], [59.139736300153423, 59.30103018451144], [59.47691053098108, 59.30103018451144], [59.816542658869302, 60.006537423060912], [60.158651110833183, 60.006537423060912], [60.503254454017217, 60.719730950235508], [60.850371396762135, 60.719730950235508], [61.200020789679989, 61.44068999716751], [61.552221626737627, 61.44068999716751], [61.906993046347836, 62.169494596735547], [62.264354332469551, 62.169494596735547], [62.62432491571564, 62.906225591749511], [62.986924374469524, 62.906225591749511], [63.352172436010385, 63.650964643240243], [63.720088977646419, 63.650964643240243], [64.09069402785731, 64.403794238862488], [64.464007767444926, 64.403794238862488], [64.840050530692793, 65.164797701323607], [65.218842806534795, 65.164797701323607], [65.600405239732112, 65.934059196973138], [65.984758632059652, 65.934059196973138], [66.37192394350123, 66.711663744415134], [66.761922293453651, 66.711663744415134], [67.154774961940404, 67.497697223272368], [67.550503390834265, 67.497697223272368], [67.949129185089092, 68.292246383011204], [68.350674113981285, 68.292246383011204], [68.755160112360414, 69.095398851838169], [69.162609281909326, 69.095398851838169], [69.573043892414404, 69.907243145759836], [69.98648638304438, 69.907243145759836], [70.402959363639795, 70.727868677650108], [70.822485616012131, 70.727868677650108], [71.245088095252285, 71.557365766499473], [71.670789931049569, 71.557365766499473], [72.099614429020249, 72.395825646690568], [72.531585072046639, 72.395825646690568], [72.966725521625989, 73.243340477414222], [73.405059619229974, 73.243340477414222], [73.846611387673917, 74.100003352187144], [74.291405032497238, 74.100003352187144], [74.73946494335361, 74.965908308424801], [75.190815695412326, 74.965908308424801], [75.645482050769729, 75.841150337190953], [76.103488959871655, 75.841150337190953], [76.564861562947002, 76.725825392969583], [77.029625191451387, 76.725825392969583], [77.497805369522609, 77.620030403600254], [77.969427815446636, 77.620030403600254], [78.444518443134825, 78.52386328029921], [78.923103363612654, 78.52386328029921], [79.405208886519375, 79.437422927776865], [79.890861521619158, 79.437422927776865], [80.380087980324035, 80.360809254467839], [80.872915177227995, 81.294123182896598], [81.369370231652809, 81.294123182896598], [81.869480469206195, 82.237466660093361], [82.373273423350568, 82.237466660093361], [82.88077683698522, 83.190942668204798], [83.392018664039071, 83.190942668204798], [83.90702707107684, 84.154655235137952], [84.425830438916634, 84.154655235137952], [84.948457364259596, 85.128709445349088], [85.474936661332819, 85.128709445349088], [86.005297363544102, 86.113211450769384], [86.539568725149536, 86.113211450769384], [87.077780222933441, 87.108268481825036], [87.619961557901476, 88.113988858556525], [88.166142656986267, 88.113988858556525], [88.71635367476668, 89.130482001900049], [89.270624995198915, 89.130482001900049], [89.828987233361872, 90.157858445057073], [90.391471237215569, 90.157858445057073], [90.958108089372161, 91.196229844994775], [91.528929108882039, 91.196229844994775], [92.103965853031198, 92.245708994065268], [92.683250119154508, 92.245708994065268], [93.266813946461312, 93.306409831763816], [93.854689617875763, 94.378447456599645], [94.446909661890302, 94.378447456599645], [95.043506854434128, 95.461938138094894], [95.64451422075507, 95.461938138094894], [96.249965037316528, 96.556999328911672], [96.859892833708059, 96.556999328911672], [97.474331394571024, 97.663749677118403], [98.093314761538764, 97.663749677118403], [98.716877235191248, 98.782309038565487], [99.345053377025053, 98.782309038565487], [99.97787801143798, 99.912798489441528], [100.61538622772861, 101.05534033889894], [101.25761338211167, 101.05534033889894], [101.90459509974797, 102.21005814184554], [102.55636727679035, 102.21005814184554], [103.21296608244501, 103.37707671191859], [103.87442796104824, 103.37707671191859], [104.54078963415908, 104.55652213451322], [105.21208810266869, 105.74852178000479], [105.88836064892398, 105.74852178000479], [106.56964483886927, 106.95320431711737], [107.25597852420286, 106.95320431711737], [107.94739984455076, 108.17069972640337], [108.64394722965704, 108.17069972640337], [109.34565940158969, 109.40113931389163], [110.05257537696482, 110.64465572487417], [110.76473446918666, 110.64465572487417], [111.48217629070506, 111.90138295786194], [112.20494075528997, 111.90138295786194], [112.93306808032321, 113.17145637864756], [113.66659878910788, 113.17145637864756], [114.40557371319512, 114.45501273456236], [115.15003399472879, 115.75219016886396], [115.90002108880721, 115.75219016886396], [116.6555767658643, 117.06312823528532], [117.4167431140671, 117.06312823528532], [118.18356254173339, 118.3879679127507], [118.95607777976565, 118.3879679127507], [119.73433188410519, 119.72685162022839], [120.51836823820425, 121.0799232317879], [121.30823055551681, 121.0799232317879], [122.10396288200856, 122.44732809172423], [122.90560959868611, 122.44732809172423], [123.71321542414449, 123.82921302998055], [124.52682541713577, 123.82921302998055], [125.34648497915541, 125.22572637764233], [126.17223985704915, 126.63701798263276], [127.00413614563993, 126.63701798263276], [127.84222029037417, 128.06323922552934], [128.68653908998834, 128.06323922552934], [129.53713969919679, 129.50454303565886], [130.3940696313978, 130.96108390725848], [131.25737676140284, 130.96108390725848], [132.12710932818422, 132.43301791588038], [133.00331593764579, 132.43301791588038], [133.8860455654129, 133.92050273492609], [134.77534755964456, 135.42369765239559], [135.67127164386642, 135.42369765239559], [136.57386791982637, 136.94276358782804], [137.48318687037036, 136.94276358782804], [138.39927936234125, 138.4778631093719], [139.32219664949892, 140.02916045109882], [140.25199037546304, 140.02916045109882], [141.18871257667885, 141.59682153047217], [142.13241568540352, 141.59682153047217], [143.08315253271709, 143.18101396602427], [144.04097635155617, 144.78190709521238], [145.00594077976911, 144.78190709521238], [145.97809986319672, 146.39967199247479], [146.95750805877421, 146.39967199247479], [147.94422023765816, 148.03448148750275], [148.93829168837684, 149.68651018366543], [149.93977812000469, 149.68651018366543], [150.94873566536, 151.35593447667586], [151.96522088422856, 151.35593447667586], [152.98929076660991, 153.04293257346632], [154.02100273599029, 154.74768451123543], [155.06041465263894, 154.74768451123543], [156.10758481692957, 156.47037217671664], [157.16257197268845, 156.47037217671664], [158.22543531056607, 158.21117932569456], [159.29623447143621, 159.97029160265416], [160.37502954981952, 159.97029160265416], [161.46188109733365, 161.74789656076462], [162.5568501261701, 161.74789656076462], [163.6599981125963, 163.54418368191435], [164.7713870004857, 165.35934439717386], [165.89107920487402, 165.35934439717386], [167.01913761554201, 167.19357210727932], [168.15562560062642, 169.04706220349249], [169.30060701025866, 169.04706220349249], [170.45414618022926, 170.92001208861751], [171.61630793568261, 170.92001208861751], [172.78715759483785, 172.81262119822071], [173.96676097273917, 174.72509102224313], [175.15518438503497, 174.72509102224313], [176.35249465178376, 176.65762512658577], [177.5587591012914, 176.65762512658577], [178.77404557397625, 178.61042917518736], [179.99842242626391, 180.58371095217095], [181.2319585345117, 180.58371095217095], [182.47472329896263, 182.57768038437851], [183.7267866477298, 184.59254956399047], [184.9882190408116, 184.59254956399047], [186.25909147413634, 186.62853277156935], [187.53947548363797, 186.62853277156935], [188.82944314936378, 188.68584649919316], [190.12906709961146, 190.76470947397218], [191.43842051510038, 190.76470947397218], [192.75757713317111, 192.86534268175279], [194.08661125201988, 194.98796939111185], [195.42559773496401, 194.98796939111185], [196.7746120147392, 197.13281517763005], [198.13373009783089, 197.13281517763005], [199.50302856883786, 199.30010794834828], [200.88258459486812, 201.4900779667006], [202.27247592997003, 201.4900779667006], [203.67278091959599, 203.70295787737396], [205.08357850509978, 205.93898273187457], [206.5049482282696, 205.93898273187457], [207.93697023589357, 208.19839001400604], [209.37972528436143, 210.48141966580872], [210.8332947443015, 210.48141966580872], [212.29776060525109, 212.78831411384903], [213.77320548036374, 212.78831411384903], [215.25971261115299, 215.11931829555789], [216.7573658722705, 217.47467968616829], [218.2662497763217, 217.47467968616829], [219.78644947871726, 219.85464832569374], [221.31805078256224, 222.25947684638066], [222.86114014358239, 222.25947684638066], [224.41580467508729, 224.68942050031885], [225.98213215297108, 227.14473718756233], [227.56021102075309, 227.14473718756233], [229.1501303946535, 229.62568748426375], [230.75198006871193, 229.62568748426375], [232.36585051994035, 232.1325346715137], [233.99183291351852, 234.66554476410332], [235.63001910802802, 234.66554476410332], [237.28050166072524, 237.22498653987586], [238.94337383285566, 239.81113156933634], [240.61872959500815, 239.81113156933634], [242.30666363250893, 242.42425424552943], [244.00727135085882, 245.064631814346], [245.72064888121002, 245.064631814346], [247.44689308588434, 247.73254440507009], [249.18610156393555, 250.42827506139935], [250.93837265675157, 250.42827506139935], [252.70380545370008, 253.15210977263339], [254.48249979781926, 253.15210977263339], [256.27455629154713, 255.90433750543752], [258.08007630249955, 258.68525023567838], [259.89916196928817, 258.68525023567838], [261.73191620738555, 261.4951429809401], [263.57844271503308, 264.33431383316116], [265.43884597919413, 264.33431383316116], [267.31323128155316, 267.20306399166407], [269.2017047045602, 270.10169779678142], [271.10437313752078, 270.10169779678142], [273.02134428273297, 273.03052276344971], [274.95272666167011, 275.98984961567498], [276.89862962121123, 275.98984961567498], [278.8591633399202, 278.97999232095441], [280.834438834369, 282.00126812530891], [282.82456796551264, 282.00126812530891], [284.82966344511169, 285.05399758869703], [286.84983884220134, 288.13850462079631], [288.88520858961442, 288.13850462079631], [290.93588799054822, 291.25511651711815], [293.00199322518569, 294.40416399570734], [295.08364135736599, 294.40416399570734], [297.18095034130431, 297.58598123407131], [299.29403902836412, 300.80090590662826], [301.42302717388094, 300.80090590662826], [303.56803544403692, 304.0492792225694], [305.72918542278956, 307.33144596409534], [307.90659961885171, 307.33144596409534], [310.10040147272406, 310.64775452525953], [312.31071536378357, 310.64775452525953], [314.53766661742327, 313.99855695088695], [316.78138151224778, 317.38420897636388], [319.04198728732376, 317.38420897636388], [321.31961214948359, 320.80507006764856], [323.61438528068743, 324.26150346163985], [325.9264368454389, 324.26150346163985], [328.25589799825877, 327.75387620729788], [330.60290089121446, 331.28255920701031], [332.96757868150706, 331.28255920701031], [335.3500655391158, 334.84792725845045], [337.75049665450314, 338.45035909698316], [340.16900824637327, 338.45035909698316], [342.60573756949537, 342.09023743844256], [345.06082292258208, 345.76794902263237], [347.53440365623044, 345.76794902263237], [350.02662018092275, 349.48388465702209], [352.5376139750864, 353.23843926111073], [355.06752759321739, 353.23843926111073], [357.61650467406542, 357.03201191128767], [360.18468994887991, 360.86500588622857], [362.7722292497192, 360.86500588622857], [365.37926951782362, 364.7378287125897], [368.00595881205084, 368.65089221168097], [370.65244631737903, 372.60461254616314], [373.31888235346844, 372.60461254616314], [376.00541838329389, 376.5994102675603], [378.71220702184081, 380.63571036432847], [381.43940204486552, 380.63571036432847], [384.18715839772739, 384.71394231038585], [386.95563220428079, 388.83454011423999], [389.74498077584087, 388.83454011423999], [392.55536262021548, 392.99794236852108], [395.38693745080496, 397.20459230048994], [398.23986619577147, 397.20459230048994], [401.11431100727998, 401.45493782263355], [404.01043527080571, 405.74943158417767], [406.92840361451692, 405.74943158417767], [409.86838191872579, 410.08853102308223], [412.83053732541157, 414.47269841859043], [415.81503824781822, 414.47269841859043], [418.82205438012232, 418.9024009445335], [421.85175670717717, 423.37811072294897], [424.90431751432874, 423.37811072294897], [427.97991039730692, 427.90030487881563], [431.07871027219403, 432.46946559481574], [434.20089338546518, 432.46946559481574], [437.34663732410928, 437.08608016717102], [440.51612102582459, 441.75064106206764], [443.70952478929053, 441.75064106206764], [446.92703028452127, 446.46364597251136], [450.16882056329734, 451.22559787603336], [453.43508006967141, 451.22559787603336], [456.72599465056174, 456.03700509291406], [460.041751566421, 460.89838134554003], [463.38253950198668, 465.81024581747988], [466.7485485771179, 465.81024581747988], [470.13997035770626, 470.7731232145095], [473.55699786667805, 475.78754382509561], [476.99982559507549, 475.78754382509561], [480.46864951322306, 480.85404358264873], [483.96366708197996, 485.97316412768612], [487.4850772640761, 485.97316412768612], [491.03308053553582, 491.14545287121967], [494.60787889718927, 496.37146305872517], [498.20967588626979, 496.37146305872517], [501.83867658809885, 501.65175383477862], [505.49508764786242, 506.98689030848612], [509.17911728247464, 506.98689030848612], [512.89097529253399, 512.37744361973967], [516.63087307436751, 517.8239910063844], [520.39902363216811, 517.8239910063844], [524.19564159022593, 523.32711587158985], [528.02094320524873, 528.88740785283119], [531.87514637878166, 534.50546289095473], [535.75847066971505, 534.50546289095473], [539.67113730689096, 540.1818833005168], [543.61336920180668, 545.91727784077875], [547.5853909614134, 545.91727784077875], [551.58742890100893, 551.71226178727716], [555.61971105723637, 557.56745700493923], [559.68246720117315, 557.56745700493923], [563.77592885152524, 563.48349202123052], [567.90032928792164, 569.46100210064265], [572.05590356430389, 569.46100210064265], [576.24288852242694, 575.50062932003368], [580.46152280545323, 581.60302264465179], [584.71204687165823, 587.76883800520955], [588.99470300823464, 587.76883800520955], [593.30973534520388, 593.99873837582675], [597.65738986943268, 600.29339385279025], [602.03791443875787, 600.29339385279025], [606.4515587962178, 606.65348173461598], [610.89857458438985, 613.07968660231938], [615.37921535983935, 613.07968660231938], [619.89373660767774, 619.57270040150263], [624.44239575623487, 626.13322252476155], [629.02545219183446, 626.13322252476155], [633.64316727368976, 632.7619598953471], [638.29580434891136, 639.4596270517668], [642.98362876762428, 646.22694623346592], [647.70690789820742, 646.22694623346592], [652.46591114264186, 653.06464746727272], [657.26090995197831, 659.97346865501152], [662.09217784192833, 659.97346865501152], [666.95999040856373, 666.9541556624489], [671.86462534414045, 674.00746240870319], [676.8063624530464, 674.00746240870319], [681.78548366786367, 681.13415095727396], [686.80227306555844, 688.3349916076636], [691.85701688379049, 688.3349916076636], [696.95000353734827, 695.61076298852731], [702.08152363471038, 702.96225215156187], [707.25186999472851, 710.39025466690691], [712.46133766344383, 710.39025466690691], [717.71022393102578, 717.8955747191676], [722.99882834884102, 725.47902520517539], [728.32745274665547, 725.47902520517539], [733.6964012499609, 733.14142783219825], [739.10598029744131, 740.88361321812704], [744.55649865856503, 740.88361321812704], [750.04826745131379, 748.70642099226188], [755.58160016004683, 756.61069989737803], [761.15681265350202, 764.59730789342359], [766.77422320292919, 764.59730789342359], [772.43415250036719, 772.66711226192569], [778.13692367705607, 780.82098971190783], [783.88286232198857, 780.82098971190783], [789.67229650061245, 789.05982648711733], [795.50555677365753, 797.38451847444503], [801.38297621612026, 797.38451847444503], [807.30489043639045, 805.79597131351034], [813.2716375955174, 814.2951005081112], [819.28355842663063, 822.88283153800865], [825.34099625449801, 822.88283153800865], [831.44429701524416, 831.56009997322201], [837.59380927621248, 840.32785158879813], [843.78988425597879, 840.32785158879813], [850.0328758445155, 849.18704248147162], [856.32314062351622, 858.13863918729817], [862.66103788686485, 858.13863918729817], [869.04692966127118, 867.18361880126452], [875.48118072705256, 876.32296909794479], [881.96415863908067, 885.55768865352672], [888.49623374789132, 885.55768865352672], [895.07777922093908, 894.88878696958045], [901.70917106403397, 904.31728459832414], [908.39078814292679, 904.31728459832414], [915.12301220506185, 913.84421326914867], [921.90622790149939, 923.47061601688142], [928.74082280900063, 933.19754731166131], [935.62718745228074, 933.19754731166131], [942.56571532643522, 943.0260731899798], [949.55680291953126, 952.95727138784218], [956.60084973537221, 952.95727138784218], [963.69825831644516, 962.99223147528005], [970.84943426702341, 973.13205499233038], [978.0547862764638, 973.13205499233038], [985.3147261426675, 983.37785558702751], [992.62966879573139, 993.73075915502545], [1000.0000323217691, 993.73075915502545]]\n"
     ]
    },
    {
     "name": "stderr",
     "output_type": "stream",
     "text": [
      "/Users/justus/.local/lib/python3.9/site-packages/colour/utilities/verbose.py:262: ColourUsageWarning: \"Recommendation ITU-R BT.2100\" \"Reference HLG OOTF\" uses RGB Luminance in computations and expects a vector input, thus the given input array will be stacked to compose a vector for internal computations but a single component will be output.\n",
      "  warn(*args, **kwargs)\n"
     ]
    }
   ],
   "source": [
    "import numpy as np\n",
    "\n",
    "# Sample arrays\n",
    "array1 = np.array(c.models.eotf_HLG_BT2100(legal2full(np.linspace(64,940,877)),0.005,1000))\n",
    "array2 = np.array(np.clip(c.models.eotf_ST2084(legal2full(np.linspace(78,722,645))),0.005,1000))\n",
    "\n",
    "# Create a new array\n",
    "new_array = []\n",
    "\n",
    "# Iterate through each element in array1\n",
    "for value in array1:\n",
    "    # Find the closest value in array2\n",
    "    closest_value = min(array2, key=lambda x: abs(x - value))\n",
    "    \n",
    "    # Append a pair [value_from_array1, closest_value_from_array2] to the new array\n",
    "    new_array.append([value, closest_value])\n",
    "\n",
    "# Convert the new array to a NumPy array\n",
    "new_array_HLG = np.array(new_array)\n",
    "\n",
    "print(new_array)\n"
   ]
  },
  {
   "cell_type": "code",
   "execution_count": 102,
   "metadata": {},
   "outputs": [
    {
     "name": "stdout",
     "output_type": "stream",
     "text": [
      "[[0.0055938061006096211, 0.0049999999999999992], [0.0063938605542215032, 0.0063600138789661519], [0.0072522635156068802, 0.007914423792992991], [0.0081702404049783066, 0.007914423792992991], [0.0091490470055897478, 0.0096704508576944768], [0.01018996717705101, 0.0096704508576944768], [0.011294311088322583, 0.011634947263367055], [0.012463413843741885, 0.011634947263367055], [0.013698634410638604, 0.013814442674438035], [0.015001354781431213, 0.013814442674438035], [0.016372979320192559, 0.016215181823826696], [0.017814934255923419, 0.01884315546125297], [0.019328667293666751, 0.01884315546125297], [0.020915647321149398, 0.021704126180476645], [0.022577364193536009, 0.021704126180476645], [0.024315328582558492, 0.024803650229695558], [0.026131071879122128, 0.024803650229695558], [0.028026146140639759, 0.028147096122026979], [0.030002124076051656, 0.031739660661892329], [0.032060599062800739, 0.031739660661892329], [0.034203185191078476, 0.035586382859271619], [0.036431517331512009, 0.035586382859271619], [0.038747251223081848, 0.039692156098895828], [0.041152063578670524, 0.039692156098895828], [0.043647652206005215, 0.044061738853640453], [0.046235736142162004, 0.044061738853640453], [0.048918055800086568, 0.048699764172779859], [0.051696373125807486, 0.053610748131010272], [0.054572471765236268, 0.053610748131010272], [0.057548157239613706, 0.058799097389545057], [0.060625257128791014, 0.058799097389545057], [0.063805621261669443, 0.064269115993519935], [0.067091121913189125, 0.064269115993519935], [0.070483654007394952, 0.070025011508557444], [0.073985135326104706, 0.076070900582272311], [0.077597506722840909, 0.076070900582272311], [0.081322732341681053, 0.082410814002762456], [0.085162799840747663, 0.082410814002762456], [0.089119720620126547, 0.089048701314980938], [0.093195530053964762, 0.095988435046768614], [0.097392287726600274, 0.095988435046768614], [0.1017120776725406, 0.10323381458881997], [0.10615700862018813, 0.10323381458881997], [0.110729214239187, 0.11078856976663291], [0.11543085339126646, 0.11865636413730499], [0.12026411038452339, 0.11865636413730499], [0.12523119523108581, 0.12684079803968479], [0.13033434390805274, 0.12684079803968479], [0.13557581862170576, 0.13534541142272052], [0.1409579080748834, 0.14417368647373402], [0.14648292773759625, 0.14417368647373402], [0.1521532201207173, 0.15332905006570183], [0.15797115505283335, 0.15332905006570183], [0.16393912996018434, 0.16281487604035955], [0.17005957014969073, 0.17263448734199771], [0.17633492909507245, 0.17263448734199771], [0.18276768872604268, 0.1827911580151399], [0.18936035972059767, 0.19328811507784016], [0.19611548180032784, 0.19328811507784016], [0.20303562402888323, 0.20412854028107233], [0.21012338511349932, 0.21531557176358571], [0.21738139370961035, 0.21531557176358571], [0.22481230872862396, 0.2268523056106336], [0.23241881964877378, 0.2268523056106336], [0.24020364682914222, 0.23874179732413989], [0.24816954182683804, 0.25098706321112163], [0.25631928771735801, 0.25098706321112163], [0.26465569941817901, 0.26359108169653067], [0.27318162401545587, 0.27655679456609439], [0.28189994109416422, 0.27655679456609439], [0.29081356307129014, 0.28988710814422053], [0.29992543553248113, 0.30358489441157138], [0.30923853757193592, 0.30358489441157138], [0.31875588213564704, 0.31765299206650455], [0.32848051636803988, 0.33209420753420998], [0.33841552196199981, 0.33209420753420998], [0.34856401551230981, 0.34691131592704516], [0.35892914887255506, 0.3621070619592785], [0.36951410951557734, 0.3621070619592785], [0.3803221208973423, 0.37768416081918249], [0.3913564428244688, 0.39364529900118383], [0.40262037182523319, 0.40999313510055835], [0.41411724152430185, 0.40999313510055835], [0.425850423021012, 0.42673030057296568], [0.43782332527145901, 0.44385940046094285], [0.45003939547413091, 0.44385940046094285], [0.46250211945949998, 0.46138301408931209], [0.47521502208323824, 0.47930369573131909], [0.48818166762333731, 0.47930369573131909], [0.50140566018107569, 0.497623975247175], [0.51489064408591245, 0.51634635869656431], [0.52864030430427467, 0.53547332892656452], [0.54265836685231827, 0.53547332892656452], [0.55694859921276596, 0.55500734613632363], [0.57151481075568178, 0.57495084841974764], [0.58636085316357001, 0.59530625228736933], [0.60149062086023353, 0.59530625228736933], [0.61690805144417593, 0.61607595316848474], [0.63261712612604171, 0.6372623258945771], [0.64862187017026796, 0.65886772516498027], [0.66492635334110683, 0.65886772516498027], [0.68153469035310343, 0.68089448599567326], [0.69845104132560032, 0.70334492415203909], [0.71567961224209709, 0.72622133656637022], [0.73322465541381732, 0.72622133656637022], [0.75109046994771145, 0.74952600174085882], [0.769281402219399, 0.77326118013675282], [0.78780184635023986, 0.79742911455034049], [0.80665624468942732, 0.79742911455034049], [0.82584908830055015, 0.82203203047635831], [0.84538491745295063, 0.84707213645940671], [0.86526832211797089, 0.87255162443391154], [0.88550394246994435, 0.87255162443391154], [0.90609646939192601, 0.89847267005314235], [0.92705064498673384, 0.92483743300776955], [0.9483712630925254, 0.95164805733441293], [0.97006316980382423, 0.97890667171461787], [0.99213126399723883, 0.97890667171461787], [1.0145804978625634, 1.0066153897646566], [1.037415877439009, 1.0347763103165499], [1.0606424631566689, 1.0633915176906648], [1.0842653703831071, 1.0924630819602381], [1.1082897699755831, 1.1219930592081531], [1.132720888838447, 1.1219930592081531], [1.1575640104859037, 1.1519834917762786], [1.1828244756106745, 1.1824364085076682], [1.2085076826576491, 1.2133538249818945], [1.2346190884036488, 1.244737743743791], [1.2611642085425074, 1.2765901545258482], [1.2881486182760824, 1.2765901545258482], [1.3155779529109939, 1.3089130344645137], [1.3434579084609697, 1.3417083483106156], [1.3717942422554705, 1.3749780486341348], [1.4005927735541401, 1.4087240760235291], [1.4298593841668508, 1.4429483592798169], [1.4596000190805598, 1.4429483592798169], [1.4898206870916635, 1.4776528156055966], [1.5205274614449442, 1.51283935078919], [1.551726480478312, 1.5485098593840874], [1.5834239482745822, 1.5846662248838448], [1.6156261353188288, 1.6213103198926053], [1.6483393791628018, 1.6584440062913859], [1.6815700850954693, 1.6960691354002784], [1.7153247268203089, 1.7341875481366995], [1.749609847139143, 1.7341875481366995], [1.7844320586428384, 1.7728010751698222], [1.8197980444087205, 1.8119115370713206], [1.8557145587043309, 1.8515207444625381], [1.8921884276992011, 1.8916304981582053], [1.9292265501823458, 1.9322425893068129], [1.9668358982876992, 1.9733587995277531], [2.0050235182262979, 2.0149809010453161], [2.0437965310255053, 2.0571106568196678], [2.0831621332761037, 2.0997498206748664], [2.1231275978857624, 2.1429001374240451], [2.1637002748409206, 2.1429001374240451], [2.204887591975484, 2.1865633429918252], [2.2466970557472021, 2.2307411645340478], [2.289136252021875, 2.2754353205549043], [2.3322128468650218, 2.320647521021558], [2.3759345873414222, 2.3663794674762997], [2.4203093023227407, 2.412632853146349], [2.4653449033023955, 2.4594093630513223], [2.5110493852198164, 2.5067106741084961], [2.5574308272906654, 2.5545384552358601], [2.6044973938478138, 2.6028943674530836], [2.6522573351880423, 2.6517800639804046], [2.7007189884292813, 2.7011971903355469], [2.7498907783745139, 2.7511473844286685], [2.7997812183857569, 2.8016322766554502], [2.8503989112649881, 2.8526534899883216], [2.9017525501451735, 2.9042126400659187], [2.9538509193895406, 2.9563113352807946], [3.0067028954993362, 3.0089511768654456], [3.0603174480311548, 3.0621337589766737], [3.1147036405228303, 3.1158606687783705], [3.1698706314287537, 3.1701334865227118], [3.2258276750647084, 3.2249537856298525], [3.2825841225609063, 3.2803231327661253], [3.3401494228252933, 3.3362430879208076], [3.3985331235168852, 3.3927152044814619], [3.4577448720271455, 3.4497410293079289], [3.5177944164725732, 3.5073221028049586], [3.5786916066960406, 3.5654599589935563], [3.6404463952787536, 3.6241561255810399], [3.7030688385618022, 3.6834121240298732], [3.7665690976772526, 3.7432294696252635], [3.8309574395914767, 3.8036096715416154], [3.8962442381559881, 3.9260646508712593], [3.9624399751704176, 3.9881424166611765], [4.0295552414559781, 4.0507890156503388], [4.0976007379389463, 4.114005927416124], [4.1665872767451813, 4.1777946258004075], [4.2365257823051028, 4.2421565789684621], [4.3074272924701633, 4.3070932494668961], [4.3793029596401425, 4.3726060942806253], [4.4521640519014127, 4.4386965648889296], [4.5260219541766302, 4.5053661073205626], [4.600888169385529, 4.5726161622080213], [4.6767743196183069, 4.7088635452183834], [4.7536921473184357, 4.7778637281009964], [4.831653516479931, 4.8474501330614004], [4.9106704138539561, 4.9176241745344988], [4.9907549501697943, 4.9883872618667233], [5.0719193613657705, 5.0597407993645538], [5.1541760098330069, 5.1316861863422982], [5.2375373856728231, 5.2042248171691359], [5.3220161079644948, 5.3510873633984835], [5.40762492604782, 5.4254140432272093], [5.4943767208163692, 5.5003394958466725], [5.5822845060246316, 5.575865091581572], [5.6713614296081616, 5.6519921960792212], [5.7616207750168451, 5.7287221703519045], [5.8530759625608271, 5.8839961493459079], [5.9457405507707577, 5.9625428532889728], [6.039628237770156, 6.0416978255309992], [6.1347528626629044, 6.1214624045228074], [6.2311284069342019, 6.2018379243216142], [6.3287689958639595, 6.3644271008299471], [6.4276888999575315, 6.446643404027399], [6.5279025363865912, 6.5294759410815457], [6.6294244704465584, 6.6129260246446764], [6.7322694170302562, 6.6969949631971071], [6.8364522421118536, 6.8669946185417867], [6.9419879642503544, 6.9529279317489454], [7.0488917561032522, 7.0394852928432128], [7.1571789459602329, 7.1266679899631482], [7.2668650192892059, 7.3029145250270044], [7.3779656202965684, 7.3919809195375858], [7.4904965535063424, 7.4816777632707492], [7.6044737853536342, 7.5720063248453444], [7.7199134457929368, 7.7545636569744643], [7.8368318299231756, 7.8467949458376314], [7.9552453996307415, 7.9396629892190766], [8.0751707852456409, 8.0331690369872852], [8.1966247872164963, 8.2221001268761249], [8.3196243778023575, 8.3175276505369897], [8.4441867027790973, 8.4135981417209535], [8.5703290831674046, 8.6076729504925797], [8.6980690169716119, 8.7056797212161587], [8.8274241809420868, 8.8043343657878346], [8.958412432351178, 9.003592144680244], [9.0910518107891818, 9.1041977045833615], [9.2253605399784124, 9.2054559895499786], [9.3613570296008088, 9.4099355488938947], [9.499059877152904, 9.5131592221101915], [9.6384878698091203, 9.6170404181162148], [9.7796599863118594, 9.8267801403005404], [9.9225953988754583, 9.9326410393465565], [10.067313475113068, 10.039164206963774], [10.21383377997727, 10.254202058792556], [10.362176077728529, 10.362719090637119], [10.512360333914801, 10.471903086362797], [10.664406717376137, 10.692276630842711], [10.818335602268178, 10.803468502698385], [10.974167570106408, 11.0278682308413], [11.131923411829233, 11.141078392273883], [11.291624129884068, 11.254963617127855], [11.453290940331941, 11.484763835111238], [11.61694527497613, 11.600681110010875], [11.782608783510982, 11.834555674548822], [11.950303335688817, 11.952515228835404], [12.120051023514957, 12.071157802876025], [12.291874163462692, 12.31049650871844], [12.465795298704752, 12.431194882863734], [12.641837201377569, 12.674655258931935], [12.820022874858747, 12.797419486849329], [13.000375556075657, 13.04502156730311], [13.182918717828295, 13.169861629799039], [13.367676071143993, 13.42162530447721], [13.554671567651244, 13.548551110888411], [13.743929401980415, 13.804496128048395], [13.935474014183365, 13.933517517590646], [14.129330092185102, 14.193663486564549], [14.32552257425078, 14.324790229640406], [14.524076651489521, 14.589156623411107], [14.725017770370551, 14.722398422878538], [14.928371635277776, 14.991004580578968], [15.134164211075719, 15.126371072982423], [15.342421725716726, 15.399236202321253], [15.553170672863146, 15.536736959086655], [15.766437814537884, 15.813880138703439], [15.982250183811693, 15.953524667298506], [16.200635087499169, 16.23496484905089], [16.421620108902669, 16.376762594112403], [16.645233110566675, 16.662518605298214], [16.871502237072157, 16.806478949727168], [17.100455917851598, 17.09656949524393], [17.332122870038145, 17.389560062431883], [17.566532101339359, 17.537145425714368], [17.803712912940117, 17.834501435737405], [18.043694902441519, 17.984274125640098], [18.286507966819176, 18.286013967102008], [18.532182305423458, 18.590686521888657], [18.780748422996719, 18.744125095572937], [19.03223713273459, 19.053211874899596], [19.28667955936843, 19.208862090102858], [19.544107142285245, 19.522381180151765], [19.804551638672752, 19.838865137484994], [20.068045126707041, 19.99822142925537], [20.334620008762297, 20.319167597309033], [20.604309014657492, 20.643098466090507], [20.877145204935012, 20.806185626430807], [21.153161974177184, 21.134608308381356], [21.432393054349589, 21.466035328755797], [21.714872518183348, 21.632877904976155], [22.000634782589895, 21.968826051186408], [22.289714612109282, 22.307797982837833], [22.582147122401516, 22.649801426442412], [22.877967783758848, 22.821942371707522], [23.177212424672295, 23.168507506161486], [23.479917235415705, 23.518123340753561], [23.786118771681121, 23.870797500289825], [24.095853958244863, 24.048283826888259], [24.40916009267259, 24.405559708285328], [24.726074849058122, 24.7659128529668], [25.046636281813726, 25.129350787526349], [25.370882829473935, 25.312228895558857], [25.698853318569466, 25.680308067332977], [26.030586967518932, 26.051490725971856], [26.366123390563942, 26.425784303159393], [26.705502601753803, 26.61410000134742], [27.048765018959795, 26.99307383278753], [27.395951467938598, 27.375177046441426], [27.74710318643433, 27.760416982209065], [28.102261828319396, 28.14880095431737], [28.46146946778795, 28.540336251558216], [28.824768603574967, 28.737287917953712], [29.192202163247142, 29.133563814315373], [29.563813507498391, 29.533009148041533], [29.939646434529667, 29.935631120725599], [30.3197451844465, 30.341436909554176], [30.704154443712948, 30.750433667526472], [31.092919349647424, 31.162628523670389], [31.486085494972944, 31.578028583255641], [31.883698932401433, 31.78693277829089], [32.285806179273521, 32.207153913963666], [32.692454222246575, 32.630597913680312], [33.103690522028614, 33.057271801190709], [33.519563018160589, 33.487182577408149], [33.940120133850364, 33.920337220606285], [34.365410780851263, 34.356742686613273], [34.795484364400153, 34.79640590900334], [35.230390788203209, 35.239333799285532], [35.670180459461953, 35.685533247090149], [36.114904293969829, 36.13501112035226], [36.564613721248193, 36.587774265493117], [37.019360689741077, 37.04382950759878], [37.479197672063442, 37.503183650596675], [37.944177670299041, 37.965843477429367], [38.41435422136329, 38.431815750226583], [38.88978140240657, 38.901107210474329], [39.370513836289746, 39.373724579182351], [39.856606697110578, 39.849674557048999], [40.348115715776693, 40.328963824624175], [40.845097185648406, 40.811599042470007], [41.34760796825217, 41.297586851319679], [41.85570549901054, 41.78693387223386], [42.369447793090977, 42.279646706755543], [42.8888934512647, 42.775731937062638], [43.41410166584226, 43.526197375886419], [43.945132226696465, 44.030742266957063], [44.482045527307164, 44.538682441095155], [45.024902570897815, 45.050024395174063], [45.573764976609986, 45.564774607508255], [46.128694985791, 46.082939537993894], [46.689755468284787, 46.604525628247863], [47.257009928828033, 47.129539301744991], [47.830522513503702, 47.923500537643214], [48.410358016266308, 48.457111154113015], [48.996581885527142, 48.994171695062818], [49.589260230802005, 49.534688503983233], [50.188459829456562, 50.078667906948816], [50.79424813348902, 50.901450877941677], [51.406693276407701, 51.458045143624865], [52.025864080165221, 52.022738197576977], [52.651830062176643, 52.595651565939335], [53.284661442404051, 53.176908629566192], [53.924429150513575, 54.064713190473995], [54.571204833115601, 54.667381712218805], [55.225060861079463, 55.2788407815924], [55.886070336917285, 55.899222483037249], [56.554307102251229, 56.528660917189995], [57.229845745351561, 57.16729223171243], [57.912761608773891, 57.815254652592003], [58.603130797061141, 58.472688515919977], [59.30103018451144, 59.139736300153423], [60.006537423060912, 60.158651110833183], [60.719730950235508, 60.850371396762135], [61.44068999716751, 61.552221626737627], [62.169494596735547, 62.264354332469551], [62.906225591749511, 62.986924374469524], [63.650964643240243, 63.720088977646419], [64.403794238862488, 64.464007767444926], [65.164797701323607, 65.218842806534795], [65.934059196973138, 65.984758632059652], [66.711663744415134, 66.761922293453651], [67.497697223272368, 67.550503390834265], [68.292246383011204, 68.350674113981285], [69.095398851838169, 69.162609281909326], [69.907243145759836, 69.98648638304438], [70.727868677650108, 70.822485616012131], [71.557365766499473, 71.670789931049569], [72.395825646690568, 72.531585072046639], [73.243340477414222, 73.405059619229974], [74.100003352187144, 74.291405032497238], [74.965908308424801, 75.190815695412326], [75.841150337190953, 75.645482050769729], [76.725825392969583, 76.564861562947002], [77.620030403600254, 77.497805369522609], [78.52386328029921, 78.444518443134825], [79.437422927776865, 79.405208886519375], [80.360809254467839, 80.380087980324035], [81.294123182896598, 81.369370231652809], [82.237466660093361, 82.373273423350568], [83.190942668204798, 83.392018664039071], [84.154655235137952, 83.90702707107684], [85.128709445349088, 84.948457364259596], [86.113211450769384, 86.005297363544102], [87.108268481825036, 87.077780222933441], [88.113988858556525, 88.166142656986267], [89.130482001900049, 89.270624995198915], [90.157858445057073, 90.391471237215569], [91.196229844994775, 90.958108089372161], [92.245708994065268, 92.103965853031198], [93.306409831763816, 93.266813946461312], [94.378447456599645, 94.446909661890302], [95.461938138094894, 95.64451422075507], [96.556999328911672, 96.859892833708059], [97.663749677118403, 97.474331394571024], [98.782309038565487, 98.716877235191248], [99.912798489441528, 99.97787801143798], [101.05534033889894, 101.25761338211167], [102.21005814184554, 101.90459509974797], [103.37707671191859, 103.21296608244501], [104.55652213451322, 104.54078963415908], [105.74852178000479, 105.88836064892398], [106.95320431711737, 107.25597852420286], [108.17069972640337, 107.94739984455076], [109.40113931389163, 109.34565940158969], [110.64465572487417, 110.76473446918666], [111.90138295786194, 112.20494075528997], [113.17145637864756, 112.93306808032321], [114.45501273456236, 114.40557371319512], [115.75219016886396, 115.90002108880721], [117.06312823528532, 117.4167431140671], [118.3879679127507, 118.18356254173339], [119.72685162022839, 119.73433188410519], [121.0799232317879, 121.30823055551681], [122.44732809172423, 122.10396288200856], [123.82921302998055, 123.71321542414449], [125.22572637764233, 125.34648497915541], [126.63701798263276, 127.00413614563993], [128.06323922552934, 127.84222029037417], [129.50454303565886, 129.53713969919679], [130.96108390725848, 131.25737676140284], [132.43301791588038, 132.12710932818422], [133.92050273492609, 133.8860455654129], [135.42369765239559, 135.67127164386642], [136.94276358782804, 136.57386791982637], [138.4778631093719, 138.39927936234125], [140.02916045109882, 140.25199037546304], [141.59682153047217, 141.18871257667885], [143.18101396602427, 143.08315253271709], [144.78190709521238, 145.00594077976911], [146.39967199247479, 145.97809986319672], [148.03448148750275, 147.94422023765816], [149.68651018366543, 149.93977812000469], [151.35593447667586, 150.94873566536], [153.04293257346632, 152.98929076660991], [154.74768451123543, 155.06041465263894], [156.47037217671664, 156.10758481692957], [158.21117932569456, 158.22543531056607], [159.97029160265416, 160.37502954981952], [161.74789656076462, 161.46188109733365], [163.54418368191435, 163.6599981125963], [165.35934439717386, 165.89107920487402], [167.19357210727932, 167.01913761554201], [169.04706220349249, 169.30060701025866], [170.92001208861751, 170.45414618022926], [172.81262119822071, 172.78715759483785], [174.72509102224313, 175.15518438503497], [176.65762512658577, 176.35249465178376], [178.61042917518736, 178.77404557397625], [180.58371095217095, 179.99842242626391], [182.57768038437851, 182.47472329896263], [184.59254956399047, 184.9882190408116], [186.62853277156935, 186.25909147413634], [188.68584649919316, 188.82944314936378], [190.76470947397218, 190.12906709961146], [192.86534268175279, 192.75757713317111], [194.98796939111185, 195.42559773496401], [197.13281517763005, 196.7746120147392], [199.30010794834828, 199.50302856883786], [201.4900779667006, 200.88258459486812], [203.70295787737396, 203.67278091959599], [205.93898273187457, 206.5049482282696], [208.19839001400604, 207.93697023589357], [210.48141966580872, 210.8332947443015], [212.78831411384903, 212.29776060525109], [215.11931829555789, 215.25971261115299], [217.47467968616829, 216.7573658722705], [219.85464832569374, 219.78644947871726], [222.25947684638066, 222.86114014358239], [224.68942050031885, 224.41580467508729], [227.14473718756233, 227.56021102075309], [229.62568748426375, 229.1501303946535], [232.1325346715137, 232.36585051994035], [234.66554476410332, 233.99183291351852], [237.22498653987586, 237.28050166072524], [239.81113156933634, 240.61872959500815], [242.42425424552943, 242.30666363250893], [245.064631814346, 245.72064888121002], [247.73254440507009, 247.44689308588434], [250.42827506139935, 250.93837265675157], [253.15210977263339, 252.70380545370008], [255.90433750543752, 256.27455629154713], [258.68525023567838, 258.08007630249955], [261.4951429809401, 261.73191620738555], [264.33431383316116, 263.57844271503308], [267.20306399166407, 267.31323128155316], [270.10169779678142, 269.2017047045602], [273.03052276344971, 273.02134428273297], [275.98984961567498, 276.89862962121123], [278.97999232095441, 278.8591633399202], [282.00126812530891, 282.82456796551264], [285.05399758869703, 284.82966344511169], [288.13850462079631, 288.88520858961442], [291.25511651711815, 290.93588799054822], [294.40416399570734, 295.08364135736599], [297.58598123407131, 297.18095034130431], [300.80090590662826, 301.42302717388094], [304.0492792225694, 303.56803544403692], [307.33144596409534, 307.90659961885171], [310.64775452525953, 310.10040147272406], [313.99855695088695, 314.53766661742327], [317.38420897636388, 316.78138151224778], [320.80507006764856, 321.31961214948359], [324.26150346163985, 323.61438528068743], [327.75387620729788, 328.25589799825877], [331.28255920701031, 330.60290089121446], [334.84792725845045, 335.3500655391158], [338.45035909698316, 337.75049665450314], [342.09023743844256, 342.60573756949537], [345.76794902263237, 345.06082292258208], [349.48388465702209, 350.02662018092275], [353.23843926111073, 352.5376139750864], [357.03201191128767, 357.61650467406542], [360.86500588622857, 360.18468994887991], [364.7378287125897, 365.37926951782362], [368.65089221168097, 368.00595881205084], [372.60461254616314, 373.31888235346844], [376.5994102675603, 376.00541838329389], [380.63571036432847, 381.43940204486552], [384.71394231038585, 384.18715839772739], [388.83454011423999, 389.74498077584087], [392.99794236852108, 392.55536262021548], [397.20459230048994, 398.23986619577147], [401.45493782263355, 401.11431100727998], [405.74943158417767, 406.92840361451692], [410.08853102308223, 409.86838191872579], [414.47269841859043, 415.81503824781822], [418.9024009445335, 418.82205438012232], [423.37811072294897, 424.90431751432874], [427.90030487881563, 427.97991039730692], [432.46946559481574, 431.07871027219403], [437.08608016717102, 437.34663732410928], [441.75064106206764, 440.51612102582459], [446.46364597251136, 446.92703028452127], [451.22559787603336, 450.16882056329734], [456.03700509291406, 456.72599465056174], [460.89838134554003, 460.041751566421], [465.81024581747988, 466.7485485771179], [470.7731232145095, 470.13997035770626], [475.78754382509561, 476.99982559507549], [480.85404358264873, 480.46864951322306], [485.97316412768612, 487.4850772640761], [491.14545287121967, 491.03308053553582], [496.37146305872517, 494.60787889718927], [501.65175383477862, 501.83867658809885], [506.98689030848612, 505.49508764786242], [512.37744361973967, 512.89097529253399], [517.8239910063844, 516.63087307436751], [523.32711587158985, 524.19564159022593], [528.88740785283119, 528.02094320524873], [534.50546289095473, 535.75847066971505], [540.1818833005168, 539.67113730689096], [545.91727784077875, 547.5853909614134], [551.71226178727716, 551.58742890100893], [557.56745700493923, 555.61971105723637], [563.48349202123052, 563.77592885152524], [569.46100210064265, 567.90032928792164], [575.50062932003368, 576.24288852242694], [581.60302264465179, 580.46152280545323], [587.76883800520955, 588.99470300823464], [593.99873837582675, 593.30973534520388], [600.29339385279025, 602.03791443875787], [606.65348173461598, 606.4515587962178], [613.07968660231938, 610.89857458438985], [619.57270040150263, 619.89373660767774], [626.13322252476155, 624.44239575623487], [632.7619598953471, 633.64316727368976], [639.4596270517668, 638.29580434891136], [646.22694623346592, 647.70690789820742], [653.06464746727272, 652.46591114264186], [659.97346865501152, 662.09217784192833], [666.9541556624489, 666.95999040856373], [674.00746240870319, 671.86462534414045], [681.13415095727396, 681.78548366786367], [688.3349916076636, 686.80227306555844], [695.61076298852731, 696.95000353734827], [702.96225215156187, 702.08152363471038], [710.39025466690691, 712.46133766344383], [717.8955747191676, 717.71022393102578], [725.47902520517539, 722.99882834884102], [733.14142783219825, 733.6964012499609], [740.88361321812704, 739.10598029744131], [748.70642099226188, 750.04826745131379], [756.61069989737803, 755.58160016004683], [764.59730789342359, 766.77422320292919], [772.66711226192569, 772.43415250036719], [780.82098971190783, 778.13692367705607], [789.05982648711733, 789.67229650061245], [797.38451847444503, 795.50555677365753], [805.79597131351034, 807.30489043639045], [814.2951005081112, 813.2716375955174], [822.88283153800865, 825.34099625449801], [831.56009997322201, 831.44429701524416], [840.32785158879813, 837.59380927621248], [849.18704248147162, 850.0328758445155], [858.13863918729817, 856.32314062351622], [867.18361880126452, 869.04692966127118], [876.32296909794479, 875.48118072705256], [885.55768865352672, 888.49623374789132], [894.88878696958045, 895.07777922093908], [904.31728459832414, 901.70917106403397], [913.84421326914867, 915.12301220506185], [923.47061601688142, 921.90622790149939], [933.19754731166131, 935.62718745228074], [943.0260731899798, 942.56571532643522], [952.95727138784218, 949.55680291953126], [962.99223147528005, 963.69825831644516], [973.13205499233038, 970.84943426702341], [983.37785558702751, 985.3147261426675], [993.73075915502545, 992.62966879573139]]\n"
     ]
    }
   ],
   "source": [
    "import numpy as np\n",
    "\n",
    "# Sample arrays\n",
    "array2 = np.array(c.models.eotf_HLG_BT2100(legal2full(np.linspace(64,940,877)),0.005,1000))\n",
    "array1 = np.array(c.models.eotf_ST2084(legal2full(np.linspace(78,722,645))))\n",
    "\n",
    "# Create a new array\n",
    "new_array = []\n",
    "\n",
    "# Iterate through each element in array1\n",
    "for value in array1:\n",
    "    # Find the closest value in array2\n",
    "    closest_value = min(array2, key=lambda x: abs(x - value))\n",
    "    \n",
    "    # Append a pair [value_from_array1, closest_value_from_array2] to the new array\n",
    "    new_array.append([value, closest_value])\n",
    "\n",
    "# Convert the new array to a NumPy array\n",
    "new_array_PQ = np.array(new_array)\n",
    "\n",
    "print(new_array)\n"
   ]
  },
  {
   "cell_type": "code",
   "execution_count": 31,
   "metadata": {},
   "outputs": [
    {
     "data": {
      "text/plain": [
       "array([  0.00000000e+00,   5.25912035e-05,   1.70826479e-04,\n",
       "         3.42874260e-04,   5.65730978e-04,   8.38361594e-04,\n",
       "         1.16057086e-03,   1.53261170e-03,   1.95500928e-03,\n",
       "         2.42846921e-03,   2.95382485e-03,   3.53200479e-03,\n",
       "         4.16401172e-03,   4.85090808e-03,   5.59380610e-03,\n",
       "         6.39386055e-03,   7.25226352e-03,   8.17024040e-03,\n",
       "         9.14904701e-03,   1.01899672e-02,   1.12943111e-02,\n",
       "         1.24634138e-02,   1.36986344e-02,   1.50013548e-02,\n",
       "         1.63729793e-02,   1.78149343e-02,   1.93286673e-02,\n",
       "         2.09156473e-02,   2.25773642e-02,   2.43153286e-02,\n",
       "         2.61310719e-02,   2.80261461e-02,   3.00021241e-02,\n",
       "         3.20605991e-02,   3.42031852e-02,   3.64315173e-02,\n",
       "         3.87472512e-02,   4.11520636e-02,   4.36476522e-02,\n",
       "         4.62357361e-02,   4.89180558e-02,   5.16963731e-02,\n",
       "         5.45724718e-02,   5.75481572e-02,   6.06252571e-02,\n",
       "         6.38056213e-02,   6.70911219e-02,   7.04836540e-02,\n",
       "         7.39851353e-02,   7.75975067e-02,   8.13227323e-02,\n",
       "         8.51627998e-02,   8.91197206e-02,   9.31955301e-02,\n",
       "         9.73922877e-02,   1.01712078e-01,   1.06157009e-01,\n",
       "         1.10729214e-01,   1.15430853e-01,   1.20264110e-01,\n",
       "         1.25231195e-01,   1.30334344e-01,   1.35575819e-01,\n",
       "         1.40957908e-01,   1.46482928e-01,   1.52153220e-01,\n",
       "         1.57971155e-01,   1.63939130e-01,   1.70059570e-01,\n",
       "         1.76334929e-01,   1.82767689e-01,   1.89360360e-01,\n",
       "         1.96115482e-01,   2.03035624e-01,   2.10123385e-01,\n",
       "         2.17381394e-01,   2.24812309e-01,   2.32418820e-01,\n",
       "         2.40203647e-01,   2.48169542e-01,   2.56319288e-01,\n",
       "         2.64655699e-01,   2.73181624e-01,   2.81899941e-01,\n",
       "         2.90813563e-01,   2.99925436e-01,   3.09238538e-01,\n",
       "         3.18755882e-01,   3.28480516e-01,   3.38415522e-01,\n",
       "         3.48564016e-01,   3.58929149e-01,   3.69514110e-01,\n",
       "         3.80322121e-01,   3.91356443e-01,   4.02620372e-01,\n",
       "         4.14117242e-01,   4.25850423e-01,   4.37823325e-01,\n",
       "         4.50039395e-01,   4.62502119e-01,   4.75215022e-01,\n",
       "         4.88181668e-01,   5.01405660e-01,   5.14890644e-01,\n",
       "         5.28640304e-01,   5.42658367e-01,   5.56948599e-01,\n",
       "         5.71514811e-01,   5.86360853e-01,   6.01490621e-01,\n",
       "         6.16908051e-01,   6.32617126e-01,   6.48621870e-01,\n",
       "         6.64926353e-01,   6.81534690e-01,   6.98451041e-01,\n",
       "         7.15679612e-01,   7.33224655e-01,   7.51090470e-01,\n",
       "         7.69281402e-01,   7.87801846e-01,   8.06656245e-01,\n",
       "         8.25849088e-01,   8.45384917e-01,   8.65268322e-01,\n",
       "         8.85503942e-01,   9.06096469e-01,   9.27050645e-01,\n",
       "         9.48371263e-01,   9.70063170e-01,   9.92131264e-01,\n",
       "         1.01458050e+00,   1.03741588e+00,   1.06064246e+00,\n",
       "         1.08426537e+00,   1.10828977e+00,   1.13272089e+00,\n",
       "         1.15756401e+00,   1.18282448e+00,   1.20850768e+00,\n",
       "         1.23461909e+00,   1.26116421e+00,   1.28814862e+00,\n",
       "         1.31557795e+00,   1.34345791e+00,   1.37179424e+00,\n",
       "         1.40059277e+00,   1.42985938e+00,   1.45960002e+00,\n",
       "         1.48982069e+00,   1.52052746e+00,   1.55172648e+00,\n",
       "         1.58342395e+00,   1.61562614e+00,   1.64833938e+00,\n",
       "         1.68157009e+00,   1.71532473e+00,   1.74960985e+00,\n",
       "         1.78443206e+00,   1.81979804e+00,   1.85571456e+00,\n",
       "         1.89218843e+00,   1.92922655e+00,   1.96683590e+00,\n",
       "         2.00502352e+00,   2.04379653e+00,   2.08316213e+00,\n",
       "         2.12312760e+00,   2.16370027e+00,   2.20488759e+00,\n",
       "         2.24669706e+00,   2.28913625e+00,   2.33221285e+00,\n",
       "         2.37593459e+00,   2.42030930e+00,   2.46534490e+00,\n",
       "         2.51104939e+00,   2.55743083e+00,   2.60449739e+00,\n",
       "         2.65225734e+00,   2.70071899e+00,   2.74989078e+00,\n",
       "         2.79978122e+00,   2.85039891e+00,   2.90175255e+00,\n",
       "         2.95385092e+00,   3.00670290e+00,   3.06031745e+00,\n",
       "         3.11470364e+00,   3.16987063e+00,   3.22582768e+00,\n",
       "         3.28258412e+00,   3.34014942e+00,   3.39853312e+00,\n",
       "         3.45774487e+00,   3.51779442e+00,   3.57869161e+00,\n",
       "         3.64044640e+00,   3.70306884e+00,   3.76656910e+00,\n",
       "         3.83095744e+00,   3.89624424e+00,   3.96243998e+00,\n",
       "         4.02955524e+00,   4.09760074e+00,   4.16658728e+00,\n",
       "         4.23652578e+00,   4.30742729e+00,   4.37930296e+00,\n",
       "         4.45216405e+00,   4.52602195e+00,   4.60088817e+00,\n",
       "         4.67677432e+00,   4.75369215e+00,   4.83165352e+00,\n",
       "         4.91067041e+00,   4.99075495e+00,   5.07191936e+00,\n",
       "         5.15417601e+00,   5.23753739e+00,   5.32201611e+00,\n",
       "         5.40762493e+00,   5.49437672e+00,   5.58228451e+00,\n",
       "         5.67136143e+00,   5.76162078e+00,   5.85307596e+00,\n",
       "         5.94574055e+00,   6.03962824e+00,   6.13475286e+00,\n",
       "         6.23112841e+00,   6.32876900e+00,   6.42768890e+00,\n",
       "         6.52790254e+00,   6.62942447e+00,   6.73226942e+00,\n",
       "         6.83645224e+00,   6.94198796e+00,   7.04889176e+00,\n",
       "         7.15717895e+00,   7.26686502e+00,   7.37796562e+00,\n",
       "         7.49049655e+00,   7.60447379e+00,   7.71991345e+00,\n",
       "         7.83683183e+00,   7.95524540e+00,   8.07517079e+00,\n",
       "         8.19662479e+00,   8.31962438e+00,   8.44418670e+00,\n",
       "         8.57032908e+00,   8.69806902e+00,   8.82742418e+00,\n",
       "         8.95841243e+00,   9.09105181e+00,   9.22536054e+00,\n",
       "         9.36135703e+00,   9.49905988e+00,   9.63848787e+00,\n",
       "         9.77965999e+00,   9.92259540e+00,   1.00673135e+01,\n",
       "         1.02138338e+01,   1.03621761e+01,   1.05123603e+01,\n",
       "         1.06644067e+01,   1.08183356e+01,   1.09741676e+01,\n",
       "         1.11319234e+01,   1.12916241e+01,   1.14532909e+01,\n",
       "         1.16169453e+01,   1.17826088e+01,   1.19503033e+01,\n",
       "         1.21200510e+01,   1.22918742e+01,   1.24657953e+01,\n",
       "         1.26418372e+01,   1.28200229e+01,   1.30003756e+01,\n",
       "         1.31829187e+01,   1.33676761e+01,   1.35546716e+01,\n",
       "         1.37439294e+01,   1.39354740e+01,   1.41293301e+01,\n",
       "         1.43255226e+01,   1.45240767e+01,   1.47250178e+01,\n",
       "         1.49283716e+01,   1.51341642e+01,   1.53424217e+01,\n",
       "         1.55531707e+01,   1.57664378e+01,   1.59822502e+01,\n",
       "         1.62006351e+01,   1.64216201e+01,   1.66452331e+01,\n",
       "         1.68715022e+01,   1.71004559e+01,   1.73321229e+01,\n",
       "         1.75665321e+01,   1.78037129e+01,   1.80436949e+01,\n",
       "         1.82865080e+01,   1.85321823e+01,   1.87807484e+01,\n",
       "         1.90322371e+01,   1.92866796e+01,   1.95441071e+01,\n",
       "         1.98045516e+01,   2.00680451e+01,   2.03346200e+01,\n",
       "         2.06043090e+01,   2.08771452e+01,   2.11531620e+01,\n",
       "         2.14323931e+01,   2.17148725e+01,   2.20006348e+01,\n",
       "         2.22897146e+01,   2.25821471e+01,   2.28779678e+01,\n",
       "         2.31772124e+01,   2.34799172e+01,   2.37861188e+01,\n",
       "         2.40958540e+01,   2.44091601e+01,   2.47260748e+01,\n",
       "         2.50466363e+01,   2.53708828e+01,   2.56988533e+01,\n",
       "         2.60305870e+01,   2.63661234e+01,   2.67055026e+01,\n",
       "         2.70487650e+01,   2.73959515e+01,   2.77471032e+01,\n",
       "         2.81022618e+01,   2.84614695e+01,   2.88247686e+01,\n",
       "         2.91922022e+01,   2.95638135e+01,   2.99396464e+01,\n",
       "         3.03197452e+01,   3.07041544e+01,   3.10929193e+01,\n",
       "         3.14860855e+01,   3.18836989e+01,   3.22858062e+01,\n",
       "         3.26924542e+01,   3.31036905e+01,   3.35195630e+01,\n",
       "         3.39401201e+01,   3.43654108e+01,   3.47954844e+01,\n",
       "         3.52303908e+01,   3.56701805e+01,   3.61149043e+01,\n",
       "         3.65646137e+01,   3.70193607e+01,   3.74791977e+01,\n",
       "         3.79441777e+01,   3.84143542e+01,   3.88897814e+01,\n",
       "         3.93705138e+01,   3.98566067e+01,   4.03481157e+01,\n",
       "         4.08450972e+01,   4.13476080e+01,   4.18557055e+01,\n",
       "         4.23694478e+01,   4.28888935e+01,   4.34141017e+01,\n",
       "         4.39451322e+01,   4.44820455e+01,   4.50249026e+01,\n",
       "         4.55737650e+01,   4.61286950e+01,   4.66897555e+01,\n",
       "         4.72570099e+01,   4.78305225e+01,   4.84103580e+01,\n",
       "         4.89965819e+01,   4.95892602e+01,   5.01884598e+01,\n",
       "         5.07942481e+01,   5.14066933e+01,   5.20258641e+01,\n",
       "         5.26518301e+01,   5.32846614e+01,   5.39244292e+01,\n",
       "         5.45712048e+01,   5.52250609e+01,   5.58860703e+01,\n",
       "         5.65543071e+01,   5.72298457e+01,   5.79127616e+01,\n",
       "         5.86031308e+01,   5.93010302e+01,   6.00065374e+01,\n",
       "         6.07197310e+01,   6.14406900e+01,   6.21694946e+01,\n",
       "         6.29062256e+01,   6.36509646e+01,   6.44037942e+01,\n",
       "         6.51647977e+01,   6.59340592e+01,   6.67116637e+01,\n",
       "         6.74976972e+01,   6.82922464e+01,   6.90953989e+01,\n",
       "         6.99072431e+01,   7.07278687e+01,   7.15573658e+01,\n",
       "         7.23958256e+01,   7.32433405e+01,   7.41000034e+01,\n",
       "         7.49659083e+01,   7.58411503e+01,   7.67258254e+01,\n",
       "         7.76200304e+01,   7.85238633e+01,   7.94374229e+01,\n",
       "         8.03608093e+01,   8.12941232e+01,   8.22374667e+01,\n",
       "         8.31909427e+01,   8.41546552e+01,   8.51287094e+01,\n",
       "         8.61132115e+01,   8.71082685e+01,   8.81139889e+01,\n",
       "         8.91304820e+01,   9.01578584e+01,   9.11962298e+01,\n",
       "         9.22457090e+01,   9.33064098e+01,   9.43784475e+01,\n",
       "         9.54619381e+01,   9.65569993e+01,   9.76637497e+01,\n",
       "         9.87823090e+01,   9.99127985e+01,   1.01055340e+02,\n",
       "         1.02210058e+02,   1.03377077e+02,   1.04556522e+02,\n",
       "         1.05748522e+02,   1.06953204e+02,   1.08170700e+02,\n",
       "         1.09401139e+02,   1.10644656e+02,   1.11901383e+02,\n",
       "         1.13171456e+02,   1.14455013e+02,   1.15752190e+02,\n",
       "         1.17063128e+02,   1.18387968e+02,   1.19726852e+02,\n",
       "         1.21079923e+02,   1.22447328e+02,   1.23829213e+02,\n",
       "         1.25225726e+02,   1.26637018e+02,   1.28063239e+02,\n",
       "         1.29504543e+02,   1.30961084e+02,   1.32433018e+02,\n",
       "         1.33920503e+02,   1.35423698e+02,   1.36942764e+02,\n",
       "         1.38477863e+02,   1.40029160e+02,   1.41596822e+02,\n",
       "         1.43181014e+02,   1.44781907e+02,   1.46399672e+02,\n",
       "         1.48034481e+02,   1.49686510e+02,   1.51355934e+02,\n",
       "         1.53042933e+02,   1.54747685e+02,   1.56470372e+02,\n",
       "         1.58211179e+02,   1.59970292e+02,   1.61747897e+02,\n",
       "         1.63544184e+02,   1.65359344e+02,   1.67193572e+02,\n",
       "         1.69047062e+02,   1.70920012e+02,   1.72812621e+02,\n",
       "         1.74725091e+02,   1.76657625e+02,   1.78610429e+02,\n",
       "         1.80583711e+02,   1.82577680e+02,   1.84592550e+02,\n",
       "         1.86628533e+02,   1.88685846e+02,   1.90764709e+02,\n",
       "         1.92865343e+02,   1.94987969e+02,   1.97132815e+02,\n",
       "         1.99300108e+02,   2.01490078e+02,   2.03702958e+02,\n",
       "         2.05938983e+02,   2.08198390e+02,   2.10481420e+02,\n",
       "         2.12788314e+02,   2.15119318e+02,   2.17474680e+02,\n",
       "         2.19854648e+02,   2.22259477e+02,   2.24689421e+02,\n",
       "         2.27144737e+02,   2.29625687e+02,   2.32132535e+02,\n",
       "         2.34665545e+02,   2.37224987e+02,   2.39811132e+02,\n",
       "         2.42424254e+02,   2.45064632e+02,   2.47732544e+02,\n",
       "         2.50428275e+02,   2.53152110e+02,   2.55904338e+02,\n",
       "         2.58685250e+02,   2.61495143e+02,   2.64334314e+02,\n",
       "         2.67203064e+02,   2.70101698e+02,   2.73030523e+02,\n",
       "         2.75989850e+02,   2.78979992e+02,   2.82001268e+02,\n",
       "         2.85053998e+02,   2.88138505e+02,   2.91255117e+02,\n",
       "         2.94404164e+02,   2.97585981e+02,   3.00800906e+02,\n",
       "         3.04049279e+02,   3.07331446e+02,   3.10647755e+02,\n",
       "         3.13998557e+02,   3.17384209e+02,   3.20805070e+02,\n",
       "         3.24261503e+02,   3.27753876e+02,   3.31282559e+02,\n",
       "         3.34847927e+02,   3.38450359e+02,   3.42090237e+02,\n",
       "         3.45767949e+02,   3.49483885e+02,   3.53238439e+02,\n",
       "         3.57032012e+02,   3.60865006e+02,   3.64737829e+02,\n",
       "         3.68650892e+02,   3.72604613e+02,   3.76599410e+02,\n",
       "         3.80635710e+02,   3.84713942e+02,   3.88834540e+02,\n",
       "         3.92997942e+02,   3.97204592e+02,   4.01454938e+02,\n",
       "         4.05749432e+02,   4.10088531e+02,   4.14472698e+02,\n",
       "         4.18902401e+02,   4.23378111e+02,   4.27900305e+02,\n",
       "         4.32469466e+02,   4.37086080e+02,   4.41750641e+02,\n",
       "         4.46463646e+02,   4.51225598e+02,   4.56037005e+02,\n",
       "         4.60898381e+02,   4.65810246e+02,   4.70773123e+02,\n",
       "         4.75787544e+02,   4.80854044e+02,   4.85973164e+02,\n",
       "         4.91145453e+02,   4.96371463e+02,   5.01651754e+02,\n",
       "         5.06986890e+02,   5.12377444e+02,   5.17823991e+02,\n",
       "         5.23327116e+02,   5.28887408e+02,   5.34505463e+02,\n",
       "         5.40181883e+02,   5.45917278e+02,   5.51712262e+02,\n",
       "         5.57567457e+02,   5.63483492e+02,   5.69461002e+02,\n",
       "         5.75500629e+02,   5.81603023e+02,   5.87768838e+02,\n",
       "         5.93998738e+02,   6.00293394e+02,   6.06653482e+02,\n",
       "         6.13079687e+02,   6.19572700e+02,   6.26133223e+02,\n",
       "         6.32761960e+02,   6.39459627e+02,   6.46226946e+02,\n",
       "         6.53064647e+02,   6.59973469e+02,   6.66954156e+02,\n",
       "         6.74007462e+02,   6.81134151e+02,   6.88334992e+02,\n",
       "         6.95610763e+02,   7.02962252e+02,   7.10390255e+02,\n",
       "         7.17895575e+02,   7.25479025e+02,   7.33141428e+02,\n",
       "         7.40883613e+02,   7.48706421e+02,   7.56610700e+02,\n",
       "         7.64597308e+02,   7.72667112e+02,   7.80820990e+02,\n",
       "         7.89059826e+02,   7.97384518e+02,   8.05795971e+02,\n",
       "         8.14295101e+02,   8.22882832e+02,   8.31560100e+02,\n",
       "         8.40327852e+02,   8.49187042e+02,   8.58138639e+02,\n",
       "         8.67183619e+02,   8.76322969e+02,   8.85557689e+02,\n",
       "         8.94888787e+02,   9.04317285e+02,   9.13844213e+02,\n",
       "         9.23470616e+02,   9.33197547e+02,   9.43026073e+02,\n",
       "         9.52957271e+02,   9.62992231e+02,   9.73132055e+02,\n",
       "         9.83377856e+02,   9.93730759e+02])"
      ]
     },
     "execution_count": 31,
     "metadata": {},
     "output_type": "execute_result"
    }
   ],
   "source": [
    "c.models.eotf_ST2084(legal2full(np.linspace(70,722,659)))"
   ]
  },
  {
   "cell_type": "code",
   "execution_count": 63,
   "metadata": {},
   "outputs": [
    {
     "data": {
      "text/plain": [
       "array([  64.,   65.,   66.,   67.,   68.,   69.,   70.,   71.,   72.,\n",
       "         73.,   74.,   75.,   76.,   77.,   78.,   79.,   80.,   81.,\n",
       "         82.,   83.,   84.,   85.,   86.,   87.,   88.,   89.,   90.,\n",
       "         91.,   92.,   93.,   94.,   95.,   96.,   97.,   98.,   99.,\n",
       "        100.,  101.,  102.,  103.,  104.,  105.,  106.,  107.,  108.,\n",
       "        109.,  110.,  111.,  112.,  113.,  114.,  115.,  116.,  117.,\n",
       "        118.,  119.,  120.,  121.,  122.,  123.,  124.,  125.,  126.,\n",
       "        127.,  128.,  129.,  130.,  131.,  132.,  133.,  134.,  135.,\n",
       "        136.,  137.,  138.,  139.,  140.,  141.,  142.,  143.,  144.,\n",
       "        145.,  146.,  147.,  148.,  149.,  150.,  151.,  152.,  153.,\n",
       "        154.,  155.,  156.,  157.,  158.,  159.,  160.,  161.,  162.,\n",
       "        163.,  164.,  165.,  166.,  167.,  168.,  169.,  170.,  171.,\n",
       "        172.,  173.,  174.,  175.,  176.,  177.,  178.,  179.,  180.,\n",
       "        181.,  182.,  183.,  184.,  185.,  186.,  187.,  188.,  189.,\n",
       "        190.,  191.,  192.,  193.,  194.,  195.,  196.,  197.,  198.,\n",
       "        199.,  200.,  201.,  202.,  203.,  204.,  205.,  206.,  207.,\n",
       "        208.,  209.,  210.,  211.,  212.,  213.,  214.,  215.,  216.,\n",
       "        217.,  218.,  219.,  220.,  221.,  222.,  223.,  224.,  225.,\n",
       "        226.,  227.,  228.,  229.,  230.,  231.,  232.,  233.,  234.,\n",
       "        235.,  236.,  237.,  238.,  239.,  240.,  241.,  242.,  243.,\n",
       "        244.,  245.,  246.,  247.,  248.,  249.,  250.,  251.,  252.,\n",
       "        253.,  254.,  255.,  256.,  257.,  258.,  259.,  260.,  261.,\n",
       "        262.,  263.,  264.,  265.,  266.,  267.,  268.,  269.,  270.,\n",
       "        271.,  272.,  273.,  274.,  275.,  276.,  277.,  278.,  279.,\n",
       "        280.,  281.,  282.,  283.,  284.,  285.,  286.,  287.,  288.,\n",
       "        289.,  290.,  291.,  292.,  293.,  294.,  295.,  296.,  297.,\n",
       "        298.,  299.,  300.,  301.,  302.,  303.,  304.,  305.,  306.,\n",
       "        307.,  308.,  309.,  310.,  311.,  312.,  313.,  314.,  315.,\n",
       "        316.,  317.,  318.,  319.,  320.,  321.,  322.,  323.,  324.,\n",
       "        325.,  326.,  327.,  328.,  329.,  330.,  331.,  332.,  333.,\n",
       "        334.,  335.,  336.,  337.,  338.,  339.,  340.,  341.,  342.,\n",
       "        343.,  344.,  345.,  346.,  347.,  348.,  349.,  350.,  351.,\n",
       "        352.,  353.,  354.,  355.,  356.,  357.,  358.,  359.,  360.,\n",
       "        361.,  362.,  363.,  364.,  365.,  366.,  367.,  368.,  369.,\n",
       "        370.,  371.,  372.,  373.,  374.,  375.,  376.,  377.,  378.,\n",
       "        379.,  380.,  381.,  382.,  383.,  384.,  385.,  386.,  387.,\n",
       "        388.,  389.,  390.,  391.,  392.,  393.,  394.,  395.,  396.,\n",
       "        397.,  398.,  399.,  400.,  401.,  402.,  403.,  404.,  405.,\n",
       "        406.,  407.,  408.,  409.,  410.,  411.,  412.,  413.,  414.,\n",
       "        415.,  416.,  417.,  418.,  419.,  420.,  421.,  422.,  423.,\n",
       "        424.,  425.,  426.,  427.,  428.,  429.,  430.,  431.,  432.,\n",
       "        433.,  434.,  435.,  436.,  437.,  438.,  439.,  440.,  441.,\n",
       "        442.,  443.,  444.,  445.,  446.,  447.,  448.,  449.,  450.,\n",
       "        451.,  452.,  453.,  454.,  455.,  456.,  457.,  458.,  459.,\n",
       "        460.,  461.,  462.,  463.,  464.,  465.,  466.,  467.,  468.,\n",
       "        469.,  470.,  471.,  472.,  473.,  474.,  475.,  476.,  477.,\n",
       "        478.,  479.,  480.,  481.,  482.,  483.,  484.,  485.,  486.,\n",
       "        487.,  488.,  489.,  490.,  491.,  492.,  493.,  494.,  495.,\n",
       "        496.,  497.,  498.,  499.,  500.,  501.,  502.,  503.,  504.,\n",
       "        505.,  506.,  507.,  508.,  509.,  510.,  511.,  512.,  513.,\n",
       "        514.,  515.,  516.,  517.,  518.,  519.,  520.,  521.,  522.,\n",
       "        523.,  524.,  525.,  526.,  527.,  528.,  529.,  530.,  531.,\n",
       "        532.,  533.,  534.,  535.,  536.,  537.,  538.,  539.,  540.,\n",
       "        541.,  542.,  543.,  544.,  545.,  546.,  547.,  548.,  549.,\n",
       "        550.,  551.,  552.,  553.,  554.,  555.,  556.,  557.,  558.,\n",
       "        559.,  560.,  561.,  562.,  563.,  564.,  565.,  566.,  567.,\n",
       "        568.,  569.,  570.,  571.,  572.,  573.,  574.,  575.,  576.,\n",
       "        577.,  578.,  579.,  580.,  581.,  582.,  583.,  584.,  585.,\n",
       "        586.,  587.,  588.,  589.,  590.,  591.,  592.,  593.,  594.,\n",
       "        595.,  596.,  597.,  598.,  599.,  600.,  601.,  602.,  603.,\n",
       "        604.,  605.,  606.,  607.,  608.,  609.,  610.,  611.,  612.,\n",
       "        613.,  614.,  615.,  616.,  617.,  618.,  619.,  620.,  621.,\n",
       "        622.,  623.,  624.,  625.,  626.,  627.,  628.,  629.,  630.,\n",
       "        631.,  632.,  633.,  634.,  635.,  636.,  637.,  638.,  639.,\n",
       "        640.,  641.,  642.,  643.,  644.,  645.,  646.,  647.,  648.,\n",
       "        649.,  650.,  651.,  652.,  653.,  654.,  655.,  656.,  657.,\n",
       "        658.,  659.,  660.,  661.,  662.,  663.,  664.,  665.,  666.,\n",
       "        667.,  668.,  669.,  670.,  671.,  672.,  673.,  674.,  675.,\n",
       "        676.,  677.,  678.,  679.,  680.,  681.,  682.,  683.,  684.,\n",
       "        685.,  686.,  687.,  688.,  689.,  690.,  691.,  692.,  693.,\n",
       "        694.,  695.,  696.,  697.,  698.,  699.,  700.,  701.,  702.,\n",
       "        703.,  704.,  705.,  706.,  707.,  708.,  709.,  710.,  711.,\n",
       "        712.,  713.,  714.,  715.,  716.,  717.,  718.,  719.,  720.,\n",
       "        721.,  722.,  723.,  724.,  725.,  726.,  727.,  728.,  729.,\n",
       "        730.,  731.,  732.,  733.,  734.,  735.,  736.,  737.,  738.,\n",
       "        739.,  740.,  741.,  742.,  743.,  744.,  745.,  746.,  747.,\n",
       "        748.,  749.,  750.,  751.,  752.,  753.,  754.,  755.,  756.,\n",
       "        757.,  758.,  759.,  760.,  761.,  762.,  763.,  764.,  765.,\n",
       "        766.,  767.,  768.,  769.,  770.,  771.,  772.,  773.,  774.,\n",
       "        775.,  776.,  777.,  778.,  779.,  780.,  781.,  782.,  783.,\n",
       "        784.,  785.,  786.,  787.,  788.,  789.,  790.,  791.,  792.,\n",
       "        793.,  794.,  795.,  796.,  797.,  798.,  799.,  800.,  801.,\n",
       "        802.,  803.,  804.,  805.,  806.,  807.,  808.,  809.,  810.,\n",
       "        811.,  812.,  813.,  814.,  815.,  816.,  817.,  818.,  819.,\n",
       "        820.,  821.,  822.,  823.,  824.,  825.,  826.,  827.,  828.,\n",
       "        829.,  830.,  831.,  832.,  833.,  834.,  835.,  836.,  837.,\n",
       "        838.,  839.,  840.,  841.,  842.,  843.,  844.,  845.,  846.,\n",
       "        847.,  848.,  849.,  850.,  851.,  852.,  853.,  854.,  855.,\n",
       "        856.,  857.,  858.,  859.,  860.,  861.,  862.,  863.,  864.,\n",
       "        865.,  866.,  867.,  868.,  869.,  870.,  871.,  872.,  873.,\n",
       "        874.,  875.,  876.,  877.,  878.,  879.,  880.,  881.,  882.,\n",
       "        883.,  884.,  885.,  886.,  887.,  888.,  889.,  890.,  891.,\n",
       "        892.,  893.,  894.,  895.,  896.,  897.,  898.,  899.,  900.,\n",
       "        901.,  902.,  903.,  904.,  905.,  906.,  907.,  908.,  909.,\n",
       "        910.,  911.,  912.,  913.,  914.,  915.,  916.,  917.,  918.,\n",
       "        919.,  920.,  921.,  922.,  923.,  924.,  925.,  926.,  927.,\n",
       "        928.,  929.,  930.,  931.,  932.,  933.,  934.,  935.,  936.,\n",
       "        937.,  938.,  939.,  940.])"
      ]
     },
     "execution_count": 63,
     "metadata": {},
     "output_type": "execute_result"
    }
   ],
   "source": [
    "np.linspace(64,940,877)"
   ]
  },
  {
   "cell_type": "code",
   "execution_count": 62,
   "metadata": {},
   "outputs": [
    {
     "data": {
      "text/plain": [
       "993.73075915502545"
      ]
     },
     "execution_count": 62,
     "metadata": {},
     "output_type": "execute_result"
    }
   ],
   "source": [
    "c.models.eotf_ST2084(legal2full(722))"
   ]
  },
  {
   "cell_type": "code",
   "execution_count": 103,
   "metadata": {},
   "outputs": [
    {
     "name": "stderr",
     "output_type": "stream",
     "text": [
      "/Users/justus/.local/lib/python3.9/site-packages/colour/models/rgb/transfer_functions/arib_std_b67.py:115: RuntimeWarning: invalid value encountered in log\n",
      "  E <= 1, r * gamma_function(E, 0.5, \"mirror\"), a * np.log(E - b) + c\n"
     ]
    }
   ],
   "source": [
    "new_test_array_HLG = np.zeros((2160,3840,3))\n",
    "\n",
    "new_test_array_HLG[0,0:877,0] = c.models.eotf_inverse_HLG_BT2100(new_array_HLG[:,0],0.005,1000)\n",
    "new_test_array_HLG[0,0:877,1] = c.models.eotf_inverse_HLG_BT2100(new_array_HLG[:,0],0.005,1000)\n",
    "new_test_array_HLG[0,0:877,2] = c.models.eotf_inverse_HLG_BT2100(new_array_HLG[:,0],0.005,1000)"
   ]
  },
  {
   "cell_type": "code",
   "execution_count": 104,
   "metadata": {},
   "outputs": [],
   "source": [
    "new_test_array_PQ = np.zeros((2160,3840,3))\n",
    "\n",
    "new_test_array_PQ[0,0:877,0] = c.models.eotf_inverse_ST2084(new_array_HLG[:,1])\n",
    "new_test_array_PQ[0,0:877,1] = c.models.eotf_inverse_ST2084(new_array_HLG[:,1])\n",
    "new_test_array_PQ[0,0:877,2] = c.models.eotf_inverse_ST2084(new_array_HLG[:,1])"
   ]
  },
  {
   "cell_type": "code",
   "execution_count": 105,
   "metadata": {},
   "outputs": [],
   "source": [
    "new_test_array_HLG1 = np.zeros((2160,3840,3))\n",
    "\n",
    "new_test_array_HLG1[0,0:645,0] = c.models.eotf_inverse_HLG_BT2100(new_array_PQ[:,0],0.005,1000)\n",
    "new_test_array_HLG1[0,0:645,1] = c.models.eotf_inverse_HLG_BT2100(new_array_PQ[:,0],0.005,1000)\n",
    "new_test_array_HLG1[0,0:645,2] = c.models.eotf_inverse_HLG_BT2100(new_array_PQ[:,0],0.005,1000)"
   ]
  },
  {
   "cell_type": "code",
   "execution_count": 106,
   "metadata": {},
   "outputs": [],
   "source": [
    "new_test_array_PQ1 = np.zeros((2160,3840,3))\n",
    "\n",
    "new_test_array_PQ1[0,0:645,0] = c.models.eotf_inverse_ST2084(new_array_PQ[:,1])\n",
    "new_test_array_PQ1[0,0:645,1] = c.models.eotf_inverse_ST2084(new_array_PQ[:,1])\n",
    "new_test_array_PQ1[0,0:645,2] = c.models.eotf_inverse_ST2084(new_array_PQ[:,1])"
   ]
  },
  {
   "cell_type": "code",
   "execution_count": 28,
   "metadata": {},
   "outputs": [
    {
     "data": {
      "text/plain": [
       "0.0"
      ]
     },
     "execution_count": 28,
     "metadata": {},
     "output_type": "execute_result"
    }
   ],
   "source": [
    "new_test_array_PQ[100,1000,0]"
   ]
  },
  {
   "cell_type": "code",
   "execution_count": 110,
   "metadata": {},
   "outputs": [],
   "source": [
    "new_test_array_HLG[1:,:, :] = new_test_array_HLG[0,:,:]"
   ]
  },
  {
   "cell_type": "code",
   "execution_count": 111,
   "metadata": {},
   "outputs": [],
   "source": [
    "new_test_array_HLG1[1:,:, :] = new_test_array_HLG1[0,:,:]"
   ]
  },
  {
   "cell_type": "code",
   "execution_count": 112,
   "metadata": {},
   "outputs": [],
   "source": [
    "new_test_array_PQ[1:,:, :] = new_test_array_PQ[0,:,:]"
   ]
  },
  {
   "cell_type": "code",
   "execution_count": 113,
   "metadata": {},
   "outputs": [],
   "source": [
    "new_test_array_PQ1[1:,:, :] = new_test_array_PQ1[0,:,:]"
   ]
  },
  {
   "cell_type": "code",
   "execution_count": 15,
   "metadata": {},
   "outputs": [
    {
     "data": {
      "text/plain": [
       "array([ 0.23657546,  0.23657546,  0.23657546])"
      ]
     },
     "execution_count": 15,
     "metadata": {},
     "output_type": "execute_result"
    }
   ],
   "source": [
    "new_test_array_HLG[100,200,:]"
   ]
  },
  {
   "cell_type": "code",
   "execution_count": 116,
   "metadata": {},
   "outputs": [
    {
     "data": {
      "text/plain": [
       "array([ 0.,  0.,  0.])"
      ]
     },
     "execution_count": 116,
     "metadata": {},
     "output_type": "execute_result"
    }
   ],
   "source": [
    "new_test_array_PQ[200,2000,:]"
   ]
  },
  {
   "cell_type": "code",
   "execution_count": 73,
   "metadata": {},
   "outputs": [],
   "source": [
    "new_test_array_HLG[200,:,0] = 0\n",
    "new_test_array_HLG[200,:,1] = 0\n",
    "new_test_array_HLG[200,:,2] = 0"
   ]
  },
  {
   "cell_type": "code",
   "execution_count": 74,
   "metadata": {},
   "outputs": [],
   "source": [
    "new_test_array_HLG[200:,:, :] = new_test_array_HLG[0,:,:]"
   ]
  },
  {
   "cell_type": "code",
   "execution_count": 100,
   "metadata": {},
   "outputs": [],
   "source": [
    "new_test_array_HLG = np.zeros((1080,1920,3))\n",
    "new_test_array_HLG[0,0:len(new_array_PQ),0] = new_array_PQ[:,0]\n",
    "new_test_array_HLG[0,0:len(new_array_PQ),1] = new_array_PQ[:,0]\n",
    "new_test_array_HLG[0,0:len(new_array_PQ),2] = new_array_PQ[:,0]"
   ]
  },
  {
   "cell_type": "code",
   "execution_count": 101,
   "metadata": {},
   "outputs": [],
   "source": [
    "new_test_array_HLG[0:,:, :] = new_test_array_HLG[0,:,:]"
   ]
  },
  {
   "cell_type": "code",
   "execution_count": 83,
   "metadata": {},
   "outputs": [],
   "source": [
    "new_test_array_HLG[0,:,0] = np.zeros((1,1920))\n",
    "new_test_array_HLG[0,:,1] = np.zeros((1,1920))\n",
    "new_test_array_HLG[0,:,2] = np.zeros((1,1920))"
   ]
  },
  {
   "cell_type": "code",
   "execution_count": 84,
   "metadata": {},
   "outputs": [],
   "source": [
    "new_test_array_HLG[0:,:, :] = new_test_array_HLG[0,:,:]"
   ]
  },
  {
   "cell_type": "code",
   "execution_count": 92,
   "metadata": {},
   "outputs": [
    {
     "name": "stderr",
     "output_type": "stream",
     "text": [
      "/Users/justus/.local/lib/python3.9/site-packages/colour/utilities/verbose.py:262: ColourUsageWarning: \"OpenImageIO\" related API features are not available, switching to \"Imageio\"!\n",
      "  warn(*args, **kwargs)\n"
     ]
    }
   ],
   "source": [
    "c.write_image(new_test_array_HLG,\"/Users/justus/Desktop/TEST_IMAGE_HLG_GRAY_SCALE_IN_HLG.tiff\",bit_depth=\"uint16\")"
   ]
  },
  {
   "cell_type": "code",
   "execution_count": 93,
   "metadata": {},
   "outputs": [],
   "source": [
    "c.write_image(new_test_array_PQ,\"/Users/justus/Desktop/TEST_IMAGE_HLG_GRAY_SCALE_IN_PQ.tiff\",bit_depth=\"uint16\")"
   ]
  },
  {
   "cell_type": "code",
   "execution_count": 94,
   "metadata": {},
   "outputs": [],
   "source": [
    "c.write_image(new_test_array_HLG1,\"/Users/justus/Desktop/TEST_IMAGE_PQ_GRAY_SCALE_IN_HLG.tiff\",bit_depth=\"uint16\")"
   ]
  },
  {
   "cell_type": "code",
   "execution_count": 95,
   "metadata": {},
   "outputs": [],
   "source": [
    "c.write_image(new_test_array_PQ1,\"/Users/justus/Desktop/TEST_IMAGE_PQ_GRAY_SCALE_IN_PQ.tiff\",bit_depth=\"uint16\")"
   ]
  },
  {
   "cell_type": "code",
   "execution_count": 117,
   "metadata": {},
   "outputs": [
    {
     "name": "stderr",
     "output_type": "stream",
     "text": [
      "/Users/justus/.local/lib/python3.9/site-packages/colour/utilities/verbose.py:262: ColourUsageWarning: \"OpenImageIO\" related API features are not available, switching to \"Imageio\"!\n",
      "  warn(*args, **kwargs)\n"
     ]
    }
   ],
   "source": [
    "test01 = c.read_image(\"/Users/justus/Desktop/TEST_IMAGE_HLG_GRAY_SCALE_IN_HLG.tiff\")\n",
    "test02 = c.read_image(\"/Users/justus/Desktop/TEST_IMAGE_HLG_GRAY_SCALE_IN_PQ.tiff\")\n",
    "test03 = c.read_image(\"/Users/justus/Desktop/TEST_IMAGE_PQ_GRAY_SCALE_IN_HLG.tiff\")\n",
    "test04 = c.read_image(\"/Users/justus/Desktop/TEST_IMAGE_PQ_GRAY_SCALE_IN_PQ.tiff\")"
   ]
  },
  {
   "cell_type": "code",
   "execution_count": 118,
   "metadata": {},
   "outputs": [],
   "source": [
    "test01[:,877:,:] = 0\n",
    "test02[:,877:,:] = 0\n",
    "test03[:,645:,:] = 0\n",
    "test04[:,645:,:] = 0"
   ]
  },
  {
   "cell_type": "code",
   "execution_count": 119,
   "metadata": {},
   "outputs": [
    {
     "name": "stderr",
     "output_type": "stream",
     "text": [
      "/Users/justus/.local/lib/python3.9/site-packages/colour/utilities/verbose.py:262: ColourUsageWarning: \"OpenImageIO\" related API features are not available, switching to \"Imageio\"!\n",
      "  warn(*args, **kwargs)\n"
     ]
    }
   ],
   "source": [
    "c.write_image(test01,\"/Users/justus/Desktop/TEST_IMAGE_HLG_GRAY_SCALE_IN_HLG1.tiff\",bit_depth=\"uint16\")\n",
    "c.write_image(test02,\"/Users/justus/Desktop/TEST_IMAGE_HLG_GRAY_SCALE_IN_PQ1.tiff\",bit_depth=\"uint16\")\n",
    "c.write_image(test03,\"/Users/justus/Desktop/TEST_IMAGE_PQ_GRAY_SCALE_IN_HLG1.tiff\",bit_depth=\"uint16\")\n",
    "c.write_image(test04,\"/Users/justus/Desktop/TEST_IMAGE_PQ_GRAY_SCALE_IN_PQ1.tiff\",bit_depth=\"uint16\")"
   ]
  },
  {
   "cell_type": "code",
   "execution_count": 17,
   "metadata": {},
   "outputs": [],
   "source": [
    "new_array_pq = new_array"
   ]
  },
  {
   "cell_type": "code",
   "execution_count": 9,
   "metadata": {},
   "outputs": [],
   "source": [
    "new_array_hlg = new_array"
   ]
  },
  {
   "cell_type": "code",
   "execution_count": 22,
   "metadata": {},
   "outputs": [],
   "source": [
    "new_array_pq[:,0] = new_array[:,1]\n",
    "new_array_pq[:,1] = new_array[:,0]"
   ]
  },
  {
   "cell_type": "code",
   "execution_count": null,
   "metadata": {},
   "outputs": [],
   "source": [
    "value_counter_image_hlg_FR = c.models.eotf_HLG_BT2100(legal2full(np.linspace(64,940,877)),0.005,1000)\n",
    "value_counter_image_pq_FR = c.models.eotf_ST2084(legal2full(np.linspace(64,722,659)))"
   ]
  },
  {
   "cell_type": "code",
   "execution_count": 25,
   "metadata": {},
   "outputs": [
    {
     "data": {
      "text/plain": [
       "(659, 2)"
      ]
     },
     "execution_count": 25,
     "metadata": {},
     "output_type": "execute_result"
    }
   ],
   "source": [
    "new_array_pq[:, 0] *= 2\n",
    "np.shape(new_array_pq)"
   ]
  },
  {
   "cell_type": "code",
   "execution_count": null,
   "metadata": {},
   "outputs": [],
   "source": [
    "new_array_pq_only1 = new_array_pq"
   ]
  },
  {
   "cell_type": "code",
   "execution_count": 26,
   "metadata": {},
   "outputs": [
    {
     "data": {
      "text/plain": [
       "(877, 2)"
      ]
     },
     "execution_count": 26,
     "metadata": {},
     "output_type": "execute_result"
    }
   ],
   "source": [
    "new_array_hlg[:, 0] *= 2\n",
    "np.shape(new_array_hlg)"
   ]
  },
  {
   "cell_type": "code",
   "execution_count": 24,
   "metadata": {},
   "outputs": [
    {
     "ename": "AttributeError",
     "evalue": "'numpy.ndarray' object has no attribute 'extend'",
     "output_type": "error",
     "traceback": [
      "\u001b[0;31m---------------------------------------------------------------------------\u001b[0m",
      "\u001b[0;31mAttributeError\u001b[0m                            Traceback (most recent call last)",
      "\u001b[0;32m/var/folders/5g/lmsxmd_122x8g7pj5_379g5w0000gn/T/ipykernel_33255/3143399326.py\u001b[0m in \u001b[0;36m<module>\u001b[0;34m\u001b[0m\n\u001b[0;32m----> 1\u001b[0;31m \u001b[0mnew_big_array\u001b[0m \u001b[0;34m=\u001b[0m \u001b[0mnew_array_hlg\u001b[0m\u001b[0;34m.\u001b[0m\u001b[0mextend\u001b[0m\u001b[0;34m(\u001b[0m\u001b[0mnew_array_pq\u001b[0m\u001b[0;34m)\u001b[0m\u001b[0;34m\u001b[0m\u001b[0;34m\u001b[0m\u001b[0m\n\u001b[0m",
      "\u001b[0;31mAttributeError\u001b[0m: 'numpy.ndarray' object has no attribute 'extend'"
     ]
    }
   ],
   "source": [
    "new_big_array = new_array_hlg.extend(new_array_pq)"
   ]
  },
  {
   "cell_type": "code",
   "execution_count": null,
   "metadata": {},
   "outputs": [],
   "source": []
  }
 ],
 "metadata": {
  "kernelspec": {
   "display_name": "base",
   "language": "python",
   "name": "python3"
  },
  "language_info": {
   "codemirror_mode": {
    "name": "ipython",
    "version": 3
   },
   "file_extension": ".py",
   "mimetype": "text/x-python",
   "name": "python",
   "nbconvert_exporter": "python",
   "pygments_lexer": "ipython3",
   "version": "3.9.13"
  }
 },
 "nbformat": 4,
 "nbformat_minor": 2
}
