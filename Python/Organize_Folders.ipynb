{
 "cells": [
  {
   "cell_type": "markdown",
   "metadata": {},
   "source": [
    "### Move each File into a subfolder with the same name"
   ]
  },
  {
   "cell_type": "code",
   "execution_count": null,
   "metadata": {},
   "outputs": [],
   "source": [
    "import os\n",
    "import shutil\n",
    "\n",
    "def organize_files_recursive(folder_path):\n",
    "    if not os.path.isdir(folder_path):\n",
    "        print(\"Error: The provided path is not a directory.\")\n",
    "        return\n",
    "\n",
    "    for folder, _, files in os.walk(folder_path):\n",
    "        for filename in files:\n",
    "            file_path = os.path.join(folder, filename)\n",
    "\n",
    "            subfolder_name = os.path.splitext(filename)[0]\n",
    "            subfolder_path = os.path.join(folder, subfolder_name)\n",
    "\n",
    "            if not os.path.exists(subfolder_path):\n",
    "                os.makedirs(subfolder_path)\n",
    "\n",
    "            shutil.move(file_path, os.path.join(subfolder_path, filename))\n",
    "            print(f\"Moved {filename} to {subfolder_name}/\")\n",
    "\n",
    "if __name__ == \"__main__\":\n",
    "    folder_path = \"/Volumes/T7_Shield/11_Source_Content/14.2_TRANSFORMED_HLG_FR_P3Lim_HD/HdM-HDR-2014_Color-Graded-for-HDR_Selection\"\n",
    "    organize_files_recursive(folder_path)"
   ]
  },
  {
   "cell_type": "markdown",
   "metadata": {},
   "source": [
    "### Delete empty Folders"
   ]
  },
  {
   "cell_type": "code",
   "execution_count": null,
   "metadata": {},
   "outputs": [],
   "source": [
    "def delete_empty_folders(root_folder):\n",
    "    for foldername, subfolders, filenames in os.walk(root_folder, topdown=False):\n",
    "        for subfolder in subfolders:\n",
    "            current_folder = os.path.join(foldername, subfolder)\n",
    "            if not os.listdir(current_folder):\n",
    "                print(f\"Deleting empty folder: {current_folder}\")\n",
    "                os.rmdir(current_folder)\n",
    "\n",
    "if __name__ == \"__main__\":\n",
    "    directory_path = '/Volumes/JM_SSD/61.3_Auswertung_Matlab_Rewind'\n",
    "    delete_empty_folders(directory_path)\n"
   ]
  },
  {
   "cell_type": "markdown",
   "metadata": {},
   "source": [
    "### Delete specific Folder"
   ]
  },
  {
   "cell_type": "code",
   "execution_count": null,
   "metadata": {},
   "outputs": [],
   "source": [
    "def delete_folder(directory, folder_name):\n",
    "    # Iterate over all directories and subdirectories\n",
    "    for root, dirs, files in os.walk(directory, topdown=False):\n",
    "        for name in dirs:\n",
    "            if name == folder_name:\n",
    "                folder_path = os.path.join(root, name)\n",
    "                try:\n",
    "                    shutil.rmtree(folder_path)\n",
    "                    print(f\"Deleted folder: {folder_path}\")\n",
    "                except Exception as e:\n",
    "                    print(f\"Error deleting folder {folder_path}: {e}\")\n",
    "\n",
    "# Example usage\n",
    "directory_path = \"/Volumes/JM_SSD/61.3_Auswertung_Matlab_Rewind\"\n",
    "folder_to_delete = \"5_F002C012_220412_R07V\"\n",
    "delete_folder(directory_path, folder_to_delete)"
   ]
  }
 ],
 "metadata": {
  "kernelspec": {
   "display_name": "base",
   "language": "python",
   "name": "python3"
  },
  "language_info": {
   "codemirror_mode": {
    "name": "ipython",
    "version": 3
   },
   "file_extension": ".py",
   "mimetype": "text/x-python",
   "name": "python",
   "nbconvert_exporter": "python",
   "pygments_lexer": "ipython3",
   "version": "3.9.13"
  }
 },
 "nbformat": 4,
 "nbformat_minor": 2
}
