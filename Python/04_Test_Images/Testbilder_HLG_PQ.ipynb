{
 "cells": [
  {
   "cell_type": "code",
   "execution_count": null,
   "metadata": {},
   "outputs": [],
   "source": [
    "import sys\n",
    "import numpy as np\n",
    "import numpy.matlib\n",
    "import numpy.random\n",
    "import ipywidgets as widgets\n",
    "import scipy.io\n",
    "import skimage\n",
    "import imageio\n",
    "import colour as c\n",
    "import math\n",
    "import csv\n",
    "import ipywidgets as widgets\n",
    "import cv2\n",
    "import time\n",
    "import re\n",
    "import pandas as pd\n",
    "import numpy as np\n",
    "import os\n",
    "import heapq\n",
    "\n",
    "from mpl_toolkits.mplot3d import axes3d \n",
    "from matplotlib import pyplot as plt\n",
    "from matplotlib.patches import Rectangle\n",
    "from ipywidgets import interact, interactive, fixed, interact_manual\n",
    "from scipy import ndimage\n",
    "from scipy import misc\n",
    "from scipy import fftpack\n",
    "from scipy import optimize\n",
    "from datetime import datetime\n",
    "from matplotlib.patches import Rectangle\n",
    "from fnmatch import fnmatch\n",
    "from matplotlib.colors import ListedColormap\n",
    "from matplotlib.colors import ListedColormap\n",
    "from matplotlib.colors import LinearSegmentedColormap"
   ]
  },
  {
   "cell_type": "code",
   "execution_count": null,
   "metadata": {},
   "outputs": [],
   "source": [
    "\n",
    "\n",
    "\n",
    "\n",
    "## Linear to sRGB\n",
    "def lin2srgb (x):\n",
    "    result = (x <= 0.0031308) * np.multiply(x,12.92) + (x > 0.0031308) * np.subtract(np.multiply(1.055,np.power(x,(1/2.4))),0.055)\n",
    "    return result\n",
    "\n",
    "\n",
    "## sRGB to Linear \n",
    "def srgb2lin (x):\n",
    "    result = (x <= 0.04045) * np.divide(x,12.92) + (x > 0.04045) * np.power(np.divide(np.add(x,0.055),1.055),2.4)\n",
    "    return result\n",
    "\n",
    "# SDR Formulas\n",
    "\n",
    "## Input Luminance between 0-1\n",
    "## Output Videosignal\n",
    "def oetf709(x): \n",
    "    return np.subtract(np.multiply(np.power(x, 0.45), 1.099), 0.099)*(0.018<= x) + np.multiply(4.5, x) * (x <0.018)\n",
    "\n",
    "def eotf1886(x, Lw = 100, Lb = 0): \n",
    "    gamma = 2.4\n",
    "    a = np.power(np.subtract(np.power(Lw, np.divide(1,gamma)),np.power(Lb, np.divide(1, gamma))), gamma)\n",
    "    b = np.divide(np.power(Lb, np.divide(1,gamma)) , np.subtract(np.power(Lw , np.divide(1,gamma)), np.power( Lb , np.divide(1, gamma))))\n",
    "    return np.multiply(a , np.power( np.maximum(np.add(x, b), 0) , gamma))\n",
    "\n",
    "def eotf1886_CRT(x, Lw = 100, Lb = 0, b = 0): \n",
    "    Vc = 0.35\n",
    "    a1 = 2.6\n",
    "    a2 = 3.0\n",
    "    k = np.subtract(Lw,np.power(np.add(1,b),a1))\n",
    "    return (x < Vc) * np.multiply(np.multiply(k,np.power(np.add(Vc,b),np.subtract(a1,a2))),np.power(np.add(x,b),a2)) + (Vc <= x) * np.multiply(k,np.power(np.add(x,b),a1))\n",
    "\n",
    "## Luma Formulas for Rec2020 / Rec709 -> Fixed Addition\n",
    "def luma709(img): \n",
    "    return np.multiply(img[:,:,0],0.2126) + np.multiply(img[:,:,1],0.7152) + np.multiply(img[:,:,2],0.0722)\n",
    "def luma2020(img): \n",
    "    return np.multiply(img[:,:,0],0.2627) + np.multiply(img[:,:,1],0.6780) + np.multiply(img[:,:,2],0.0593)\n",
    "\n",
    "## Formulas for PQ\n",
    "\n",
    "# increasing rec.709 formulas \n",
    "def steroids709(x): \n",
    "    return np.subtract(np.multiply(np.power(np.multiply(59.5208 , x), 0.45), 1.099), 0.099)*(0.0003024< x) + np.multiply(267.84, x) * (x <= 0.0003024)\n",
    "\n",
    "def steroids1886(x): \n",
    "    return np.multiply(100, np.power(x, 2.4))\n",
    "\n",
    "\n",
    "## Transportfunctions\n",
    "\n",
    "def pq_eotf(x): \n",
    "    ##m1\n",
    "    m1 = np.divide(2610, 16384) ## 2^14 = 16384\n",
    "    m2 = np.multiply(np.divide(2523, 4096), 128) ##2^12 = 4096 , 2^7 = 128 -> Jan fragen\n",
    "    c1 = np.divide(3424, 4096)\n",
    "    c2 = np.multiply(np.divide(2413, 4096), 32)\n",
    "    c3 = np.multiply(np.divide(2392, 4096), 32)\n",
    "\n",
    "    \n",
    "    return np.multiply(np.power(np.divide(np.maximum( np.subtract( np.power(x , np.divide(1 , m2)), c1) , 0) , np.subtract(c2, np.multiply(c3 , np.power(x , np.divide(1 , m2))))) , np.divide(1, m1)), 10000)\n",
    "\n",
    "## Inverse_eotf\n",
    "\n",
    "def pq_eotf_inv(x): \n",
    "    m1 = np.divide(2610, 16384) ## 2^14 = 16384\n",
    "    m2 = np.multiply(np.divide(2523, 4096), 128) ##2^12 = 4096 , 2^7 = 128 -> Jan fragen\n",
    "    c1 = np.divide(3424, 4096)\n",
    "    c2 = np.multiply(np.divide(2413, 4096), 32)\n",
    "    c3 = np.multiply(np.divide(2392, 4096), 32)\n",
    "\n",
    "    y = np.divide(x , 10000) ## Normalisierung auf 0.00 bis 1.0\n",
    "\n",
    "    return np.power( np.divide(np.add(c1 , np.multiply(c2 , np.power(y , m1))), np.add(1 , np.multiply(c3 , np.power(y , m1)))), m2)\n",
    "\n",
    "# RGB Input\n",
    "def hlg_oetf(x): \n",
    "    a = 0.17883277\n",
    "    b = np.subtract(1 , np.multiply(4 , a))\n",
    "    c = np.subtract(0.5 , np.multiply(a , np.log(np.multiply(4 , a))))\n",
    "\n",
    "    return np.where(x <= np.divide(1,12), np.sqrt(np.multiply(3,x )), np.add( np.multiply(a , np.log(np.subtract( np.multiply(12 , x ), b))) , c) )\n",
    "\n",
    "def hlg_oetf_inv(x):\n",
    "    a = 0.17883277\n",
    "    b = np.subtract(1 , np.multiply(4 , a))\n",
    "    c = np.subtract(0.5 , np.multiply(a , np.log(np.multiply(4 , a))))\n",
    "    \n",
    "    return np.where(x <= 0.5 , np.divide( np.power(x,2), 3), np.divide(np.add(np.exp(np.divide(np.subtract(x , c), a)), b) , 12) )\n",
    "\n",
    "## Lw = Usergain, nominal peak Luminance of the display (achromatic)\n",
    "def hlg_ootf(x, Lw): \n",
    "    r = x[: , : , 0]\n",
    "    g = x[: , : , 1]\n",
    "    b = x[: , : , 2]\n",
    "    luma = np.add(np.multiply(0.2627 ,r ), np.multiply(0.678 , g), np.multiply(0.0593 , b))\n",
    "    alpha = Lw\n",
    "    gamma = np.add(1.2, np.multiply(0.42 , np.log10(np.divide(Lw,1000))))\n",
    "    rd = np.multiply( alpha , np.power(luma , np.subtract(gamma , 1)), r)\n",
    "    gd = np.multiply( alpha , np.power(luma , np.subtract(gamma , 1)), g)\n",
    "    bd = np.multiply( alpha , np.power(luma , np.subtract(gamma , 1)), b)\n",
    "    return np.stack((rd , gd , bd))\n",
    "\n",
    "## Lw = Usergain, nominal peak Luminance of the display (achromatic)\n",
    "def hlg_ootf_bw(x, Lw=1000): \n",
    "    alpha = Lw\n",
    "    gamma = np.add(1.2, np.multiply(0.42 , np.log10(np.divide(Lw,1000))))\n",
    "    return np.multiply(np.multiply( alpha , np.power(x , np.subtract(gamma , 1))),x)\n",
    "\n",
    "def hlg_eotf(x, Lw = 1000, Lb = 0.005):\n",
    "    gamma = np.add(1.2, np.multiply(0.42 , np.log10(np.divide(Lw,1000))))\n",
    "    beta = np.sqrt(np.multiply(3 , np.power(np.divide(Lb , Lw), np.divide(1,gamma))))\n",
    "    return hlg_ootf_bw(hlg_oetf_inv(np.maximum(0 , (np.add( np.multiply( np.subtract(1 , beta), x ), beta)))), Lw)\n",
    "\n",
    "\n",
    "def slog3oetf(x): \n",
    "    # reflection add\n",
    "    x = x*0.9\n",
    "\n",
    "    return (x < 0.01125)* np.divide( np.add( np.multiply(x , np.divide(np.subtract(171.2102946929, 95), 0.01125)), 95), 1023) + (x >= 0.01125)* np.divide(np.add(420 , np.multiply( np.log10(np.divide(np.add(x,0.01), np.add(0.18, 0.01))), 261.5)), 1023)\n",
    "\n",
    "def slog3eotf(x): \n",
    "    return (x >= np.divide(171.2102946929,1023)) * np.subtract( np.multiply(np.power(10 , np.divide( np.subtract(420 , np.multiply(x , 1023)) , 261.5)) , np.add(0.18 , 0.01)) , 0.01) + (x < np.divide(171.2102946929,1023)) * np.multiply(np.subtract(np.multiply(x , 1023), 95 ) , np.divide(0.01125 , np.subtract(171.2102946929 , 95)))\n",
    "\n",
    "# These are the ARRI LogCv3 Formulas\n",
    "def lin2logc(x):\n",
    "    return np.multiply(x > 0.010591, 0.24719 * np.log10(5.555556 * x + 0.052272) + 0.385537) + np.multiply(x <= 0.010591, 5.367655 * x + 0.092809)\n",
    "def logc2lin(x):\n",
    "    return np.multiply(x > 0.149659, (np.power(10.0, (x - 0.385537) / 0.247189) - 0.052272) / 5.555556) + np.multiply(x <= 0.149659, (x - 0.092809) / 5.367650)\n",
    "\n",
    "\n",
    "### LOG C4\n",
    "def Encoding_LogC4(x):\n",
    "    a = (np.power(2.0, 18.0) - 16.0) / 117.45\n",
    "    b = (1023.0 - 95.0) / 1023.0\n",
    "    c = 95.0 / 1023.0\n",
    "    s = (7 * np.log(2) * np.power(2.0, 7 - 14 * c / b)) / (a * b)\n",
    "    t = (np.power(2.0, 14.0 * (-c / b) + 6.0) - 64.0) / a\n",
    "    return (x < t) * np.divide(np.subtract(x,t),s) + (x >= t) * np.add(np.multiply(np.divide( np.subtract(np.log2(np.add(np.multiply(a,x),64.0)),6.0),14.0),b),c)\n",
    "\n",
    "def Decoding_LogC4(x):\n",
    "    a = (np.power(2.0, 18.0) - 16.0) / 117.45\n",
    "    b = (1023.0 - 95.0) / 1023.0\n",
    "    c = 95.0 / 1023.0\n",
    "    s = (7 * np.log(2) * np.power(2.0, 7 - 14 * c / b)) / (a * b)\n",
    "    t = (np.power(2.0, 14.0 * (-c / b) + 6.0) - 64.0) / a\n",
    "    return (x < 0.0) * np.add(np.multiply(x,s),t) + (x >= 0.0) * np.divide(np.subtract(np.power(2.0, np.add(np.multiply(14,np.divide(np.subtract(x,c),b)),6)),64.0),a)\n",
    "\n",
    "\n",
    "def full2legal(x):\n",
    "    return (219*(x)+16)*np.power(2,(10-8))\n",
    "\n",
    "def legal2full(x):\n",
    "    return (((x/np.power(2,(10-8)))-16)/219)\n",
    "\n",
    "def lin2log2(x):\n",
    "    return np.log2(x)\n",
    "\n",
    "def log22lin(x):\n",
    "    return np.power(2,x)\n",
    "\n",
    "def Blenden_Differenz(num1, num2):\n",
    "    new2 = num2 / num1\n",
    "    return np.log2(new2)\n",
    "\n",
    "def mse_calculation(imageA, imageB):\n",
    "    # Expects Luma Images\n",
    "\terr = np.mean(np.square(np.subtract(imageA,imageB)))\n",
    "\treturn err\n",
    "\n",
    "\n",
    "\n",
    "\n",
    "def BT2020_Linear_to_ICtCp(original):\n",
    "    ictcp_array = np.zeros((np.shape(original)))\n",
    "\n",
    "    L1 = (1688*original[:,:,0] + 2146*original[:,:,1] + 262*original[:,:,2])/4096\n",
    "    M1 = (683*original[:,:,0] + 2951*original[:,:,1] + 462*original[:,:,2])/4096\n",
    "    S1 = (99*original[:,:,0] + 309*original[:,:,1] + 3688*original[:,:,2])/4096\n",
    "\n",
    "    L1_Mapped = c.models.eotf_inverse_ST2084(L1)\n",
    "    M1_Mapped = c.models.eotf_inverse_ST2084(M1)\n",
    "    S1_Mapped = c.models.eotf_inverse_ST2084(S1)\n",
    "\n",
    "    ictcp_array[:,:,0] = 0.5*L1_Mapped+0.5*M1_Mapped\n",
    "    ictcp_array[:,:,1] =(6610*L1_Mapped - 13613*M1_Mapped + 7003*S1_Mapped)/4096\n",
    "    ictcp_array[:,:,2] =(17933*L1_Mapped - 17390*M1_Mapped - 543*S1_Mapped)/4096\n",
    "\n",
    "    return ictcp_array\n",
    "\n",
    "\n",
    "\n",
    "\n",
    "\n",
    "\n",
    "import numpy as np\n",
    "\n",
    "def flatten_and_reshape_array(original_array, new_shape):\n",
    "    flattened_array = np.array(original_array).flatten()\n",
    "    reshaped_array = flattened_array[:np.prod(new_shape)].reshape(new_shape)\n",
    "    return reshaped_array\n",
    "\n",
    "sample_2d_array = np.random.randint(1, 10, size=(8, 10))\n",
    "\n",
    "new_shape = (1080, 1920)\n",
    "\n",
    "\n",
    "\n",
    "\n",
    "\n",
    "\n",
    "import numpy as np\n",
    "\n",
    "def create_dict_from_arrays(array1, array2):\n",
    "    assert array1.shape == array2.shape, \"Arrays must have the same size\"\n",
    "\n",
    "    result_dict = {array1[i, j]: array2[i, j] for i in range(array1.shape[0]) for j in range(array1.shape[1])}\n",
    "\n",
    "    return result_dict\n",
    "\n",
    "\n",
    "import csv\n",
    "\n",
    "def read_csv_into_2d_array(file_path):\n",
    "    with open(file_path, 'r') as csvfile:\n",
    "        csvreader = csv.reader(csvfile)\n",
    "        csv_data_2d_array = [row for row in csvreader]\n",
    "\n",
    "    return csv_data_2d_array\n",
    "\n",
    "\n",
    "\n",
    "\n",
    "\n",
    "def remove_items_below_threshold(dictionary, threshold):\n",
    "    filtered_dict = {key: value for key, value in dictionary.items() if value >= threshold}\n",
    "\n",
    "    return filtered_dict\n",
    "\n",
    "\n",
    "\n",
    "\n",
    "import heapq\n",
    "\n",
    "def get_top_n_items(dictionary, n):\n",
    "    top_n_items = heapq.nlargest(n, dictionary.items(), key=lambda item: item[1])\n",
    "\n",
    "    top_n_dict = dict(top_n_items)\n",
    "\n",
    "    return top_n_dict\n",
    "\n",
    "\n"
   ]
  },
  {
   "cell_type": "code",
   "execution_count": null,
   "metadata": {},
   "outputs": [],
   "source": [
    "import numpy as np\n",
    "\n",
    "array1 = np.array(c.models.eotf_HLG_BT2100(legal2full(np.linspace(64,940,877)),0.005,1000))\n",
    "array2 = np.array(np.clip(c.models.eotf_ST2084(legal2full(np.linspace(78,722,645))),0.005,1000))\n",
    "\n",
    "new_array = []\n",
    "\n",
    "for value in array1:\n",
    "    closest_value = min(array2, key=lambda x: abs(x - value))\n",
    "    new_array.append([value, closest_value])\n",
    "\n",
    "new_array_HLG = np.array(new_array)\n",
    "\n",
    "print(new_array)\n"
   ]
  },
  {
   "cell_type": "code",
   "execution_count": null,
   "metadata": {},
   "outputs": [],
   "source": [
    "import numpy as np\n",
    "\n",
    "array2 = np.array(c.models.eotf_HLG_BT2100(legal2full(np.linspace(64,940,877)),0.005,1000))\n",
    "array1 = np.array(c.models.eotf_ST2084(legal2full(np.linspace(78,722,645))))\n",
    "new_array = []\n",
    "\n",
    "for value in array1:\n",
    "    closest_value = min(array2, key=lambda x: abs(x - value))\n",
    "    \n",
    "    new_array.append([value, closest_value])\n",
    "\n",
    "new_array_PQ = np.array(new_array)\n",
    "\n",
    "print(new_array)\n"
   ]
  },
  {
   "cell_type": "code",
   "execution_count": null,
   "metadata": {},
   "outputs": [],
   "source": [
    "c.models.eotf_ST2084(legal2full(np.linspace(70,722,659)))"
   ]
  },
  {
   "cell_type": "code",
   "execution_count": null,
   "metadata": {},
   "outputs": [],
   "source": [
    "np.linspace(64,940,877)"
   ]
  },
  {
   "cell_type": "code",
   "execution_count": null,
   "metadata": {},
   "outputs": [],
   "source": [
    "c.models.eotf_ST2084(legal2full(722))"
   ]
  },
  {
   "cell_type": "code",
   "execution_count": null,
   "metadata": {},
   "outputs": [],
   "source": [
    "new_test_array_HLG = np.zeros((2160,3840,3))\n",
    "\n",
    "new_test_array_HLG[0,0:877,0] = c.models.eotf_inverse_HLG_BT2100(new_array_HLG[:,0],0.005,1000)\n",
    "new_test_array_HLG[0,0:877,1] = c.models.eotf_inverse_HLG_BT2100(new_array_HLG[:,0],0.005,1000)\n",
    "new_test_array_HLG[0,0:877,2] = c.models.eotf_inverse_HLG_BT2100(new_array_HLG[:,0],0.005,1000)"
   ]
  },
  {
   "cell_type": "code",
   "execution_count": null,
   "metadata": {},
   "outputs": [],
   "source": [
    "new_test_array_PQ = np.zeros((2160,3840,3))\n",
    "\n",
    "new_test_array_PQ[0,0:877,0] = c.models.eotf_inverse_ST2084(new_array_HLG[:,1])\n",
    "new_test_array_PQ[0,0:877,1] = c.models.eotf_inverse_ST2084(new_array_HLG[:,1])\n",
    "new_test_array_PQ[0,0:877,2] = c.models.eotf_inverse_ST2084(new_array_HLG[:,1])"
   ]
  },
  {
   "cell_type": "code",
   "execution_count": null,
   "metadata": {},
   "outputs": [],
   "source": [
    "new_test_array_HLG1 = np.zeros((2160,3840,3))\n",
    "\n",
    "new_test_array_HLG1[0,0:645,0] = c.models.eotf_inverse_HLG_BT2100(new_array_PQ[:,0],0.005,1000)\n",
    "new_test_array_HLG1[0,0:645,1] = c.models.eotf_inverse_HLG_BT2100(new_array_PQ[:,0],0.005,1000)\n",
    "new_test_array_HLG1[0,0:645,2] = c.models.eotf_inverse_HLG_BT2100(new_array_PQ[:,0],0.005,1000)"
   ]
  },
  {
   "cell_type": "code",
   "execution_count": null,
   "metadata": {},
   "outputs": [],
   "source": [
    "new_test_array_PQ1 = np.zeros((2160,3840,3))\n",
    "\n",
    "new_test_array_PQ1[0,0:645,0] = c.models.eotf_inverse_ST2084(new_array_PQ[:,1])\n",
    "new_test_array_PQ1[0,0:645,1] = c.models.eotf_inverse_ST2084(new_array_PQ[:,1])\n",
    "new_test_array_PQ1[0,0:645,2] = c.models.eotf_inverse_ST2084(new_array_PQ[:,1])"
   ]
  },
  {
   "cell_type": "code",
   "execution_count": null,
   "metadata": {},
   "outputs": [],
   "source": [
    "new_test_array_PQ[100,1000,0]"
   ]
  },
  {
   "cell_type": "code",
   "execution_count": null,
   "metadata": {},
   "outputs": [],
   "source": [
    "new_test_array_HLG[1:,:, :] = new_test_array_HLG[0,:,:]"
   ]
  },
  {
   "cell_type": "code",
   "execution_count": null,
   "metadata": {},
   "outputs": [],
   "source": [
    "new_test_array_HLG1[1:,:, :] = new_test_array_HLG1[0,:,:]"
   ]
  },
  {
   "cell_type": "code",
   "execution_count": null,
   "metadata": {},
   "outputs": [],
   "source": [
    "new_test_array_PQ[1:,:, :] = new_test_array_PQ[0,:,:]"
   ]
  },
  {
   "cell_type": "code",
   "execution_count": null,
   "metadata": {},
   "outputs": [],
   "source": [
    "new_test_array_PQ1[1:,:, :] = new_test_array_PQ1[0,:,:]"
   ]
  },
  {
   "cell_type": "code",
   "execution_count": null,
   "metadata": {},
   "outputs": [],
   "source": [
    "new_test_array_HLG[100,200,:]"
   ]
  },
  {
   "cell_type": "code",
   "execution_count": null,
   "metadata": {},
   "outputs": [],
   "source": [
    "new_test_array_PQ[200,2000,:]"
   ]
  },
  {
   "cell_type": "code",
   "execution_count": null,
   "metadata": {},
   "outputs": [],
   "source": [
    "new_test_array_HLG[200,:,0] = 0\n",
    "new_test_array_HLG[200,:,1] = 0\n",
    "new_test_array_HLG[200,:,2] = 0"
   ]
  },
  {
   "cell_type": "code",
   "execution_count": null,
   "metadata": {},
   "outputs": [],
   "source": [
    "new_test_array_HLG[200:,:, :] = new_test_array_HLG[0,:,:]"
   ]
  },
  {
   "cell_type": "code",
   "execution_count": null,
   "metadata": {},
   "outputs": [],
   "source": [
    "new_test_array_HLG = np.zeros((1080,1920,3))\n",
    "new_test_array_HLG[0,0:len(new_array_PQ),0] = new_array_PQ[:,0]\n",
    "new_test_array_HLG[0,0:len(new_array_PQ),1] = new_array_PQ[:,0]\n",
    "new_test_array_HLG[0,0:len(new_array_PQ),2] = new_array_PQ[:,0]"
   ]
  },
  {
   "cell_type": "code",
   "execution_count": null,
   "metadata": {},
   "outputs": [],
   "source": [
    "new_test_array_HLG[0:,:, :] = new_test_array_HLG[0,:,:]"
   ]
  },
  {
   "cell_type": "code",
   "execution_count": null,
   "metadata": {},
   "outputs": [],
   "source": [
    "new_test_array_HLG[0,:,0] = np.zeros((1,1920))\n",
    "new_test_array_HLG[0,:,1] = np.zeros((1,1920))\n",
    "new_test_array_HLG[0,:,2] = np.zeros((1,1920))"
   ]
  },
  {
   "cell_type": "code",
   "execution_count": null,
   "metadata": {},
   "outputs": [],
   "source": [
    "new_test_array_HLG[0:,:, :] = new_test_array_HLG[0,:,:]"
   ]
  },
  {
   "cell_type": "code",
   "execution_count": null,
   "metadata": {},
   "outputs": [],
   "source": [
    "c.write_image(new_test_array_HLG,\"/Users/justus/Desktop/TEST_IMAGE_HLG_GRAY_SCALE_IN_HLG.tiff\",bit_depth=\"uint16\")"
   ]
  },
  {
   "cell_type": "code",
   "execution_count": null,
   "metadata": {},
   "outputs": [],
   "source": [
    "c.write_image(new_test_array_PQ,\"/Users/justus/Desktop/TEST_IMAGE_HLG_GRAY_SCALE_IN_PQ.tiff\",bit_depth=\"uint16\")"
   ]
  },
  {
   "cell_type": "code",
   "execution_count": null,
   "metadata": {},
   "outputs": [],
   "source": [
    "c.write_image(new_test_array_HLG1,\"/Users/justus/Desktop/TEST_IMAGE_PQ_GRAY_SCALE_IN_HLG.tiff\",bit_depth=\"uint16\")"
   ]
  },
  {
   "cell_type": "code",
   "execution_count": null,
   "metadata": {},
   "outputs": [],
   "source": [
    "c.write_image(new_test_array_PQ1,\"/Users/justus/Desktop/TEST_IMAGE_PQ_GRAY_SCALE_IN_PQ.tiff\",bit_depth=\"uint16\")"
   ]
  },
  {
   "cell_type": "code",
   "execution_count": null,
   "metadata": {},
   "outputs": [],
   "source": [
    "test01 = c.read_image(\"/Users/justus/Desktop/TEST_IMAGE_HLG_GRAY_SCALE_IN_HLG.tiff\")\n",
    "test02 = c.read_image(\"/Users/justus/Desktop/TEST_IMAGE_HLG_GRAY_SCALE_IN_PQ.tiff\")\n",
    "test03 = c.read_image(\"/Users/justus/Desktop/TEST_IMAGE_PQ_GRAY_SCALE_IN_HLG.tiff\")\n",
    "test04 = c.read_image(\"/Users/justus/Desktop/TEST_IMAGE_PQ_GRAY_SCALE_IN_PQ.tiff\")"
   ]
  },
  {
   "cell_type": "code",
   "execution_count": null,
   "metadata": {},
   "outputs": [],
   "source": [
    "test01[:,877:,:] = 0\n",
    "test02[:,877:,:] = 0\n",
    "test03[:,645:,:] = 0\n",
    "test04[:,645:,:] = 0"
   ]
  },
  {
   "cell_type": "code",
   "execution_count": null,
   "metadata": {},
   "outputs": [],
   "source": [
    "c.write_image(test01,\"/Users/justus/Desktop/TEST_IMAGE_HLG_GRAY_SCALE_IN_HLG1.tiff\",bit_depth=\"uint16\")\n",
    "c.write_image(test02,\"/Users/justus/Desktop/TEST_IMAGE_HLG_GRAY_SCALE_IN_PQ1.tiff\",bit_depth=\"uint16\")\n",
    "c.write_image(test03,\"/Users/justus/Desktop/TEST_IMAGE_PQ_GRAY_SCALE_IN_HLG1.tiff\",bit_depth=\"uint16\")\n",
    "c.write_image(test04,\"/Users/justus/Desktop/TEST_IMAGE_PQ_GRAY_SCALE_IN_PQ1.tiff\",bit_depth=\"uint16\")"
   ]
  },
  {
   "cell_type": "code",
   "execution_count": null,
   "metadata": {},
   "outputs": [],
   "source": [
    "new_array_pq = new_array"
   ]
  },
  {
   "cell_type": "code",
   "execution_count": null,
   "metadata": {},
   "outputs": [],
   "source": [
    "new_array_hlg = new_array"
   ]
  },
  {
   "cell_type": "code",
   "execution_count": null,
   "metadata": {},
   "outputs": [],
   "source": [
    "new_array_pq[:,0] = new_array[:,1]\n",
    "new_array_pq[:,1] = new_array[:,0]"
   ]
  },
  {
   "cell_type": "code",
   "execution_count": null,
   "metadata": {},
   "outputs": [],
   "source": [
    "value_counter_image_hlg_FR = c.models.eotf_HLG_BT2100(legal2full(np.linspace(64,940,877)),0.005,1000)\n",
    "value_counter_image_pq_FR = c.models.eotf_ST2084(legal2full(np.linspace(64,722,659)))"
   ]
  },
  {
   "cell_type": "code",
   "execution_count": null,
   "metadata": {},
   "outputs": [],
   "source": [
    "new_array_pq[:, 0] *= 2\n",
    "np.shape(new_array_pq)"
   ]
  },
  {
   "cell_type": "code",
   "execution_count": null,
   "metadata": {},
   "outputs": [],
   "source": [
    "new_array_pq_only1 = new_array_pq"
   ]
  },
  {
   "cell_type": "code",
   "execution_count": null,
   "metadata": {},
   "outputs": [],
   "source": [
    "new_array_hlg[:, 0] *= 2\n",
    "np.shape(new_array_hlg)"
   ]
  }
 ],
 "metadata": {
  "kernelspec": {
   "display_name": "base",
   "language": "python",
   "name": "python3"
  },
  "language_info": {
   "codemirror_mode": {
    "name": "ipython",
    "version": 3
   },
   "file_extension": ".py",
   "mimetype": "text/x-python",
   "name": "python",
   "nbconvert_exporter": "python",
   "pygments_lexer": "ipython3",
   "version": "3.9.13"
  }
 },
 "nbformat": 4,
 "nbformat_minor": 2
}
