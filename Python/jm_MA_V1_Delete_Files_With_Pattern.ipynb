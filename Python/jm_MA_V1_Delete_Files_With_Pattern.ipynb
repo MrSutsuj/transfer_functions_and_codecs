{
 "cells": [
  {
   "cell_type": "markdown",
   "metadata": {},
   "source": [
    "### Delete Files without Pattern"
   ]
  },
  {
   "cell_type": "code",
   "execution_count": 1,
   "metadata": {},
   "outputs": [],
   "source": [
    "import sys\n",
    "#sys.path.append('../shared/')\n",
    "#import videodisko as vd\n",
    "# Imports\n",
    "import numpy as np\n",
    "import numpy.matlib\n",
    "import numpy.random\n",
    "\n",
    "from mpl_toolkits.mplot3d import axes3d \n",
    "\n",
    "from matplotlib import pyplot as plt\n",
    "\n",
    "from scipy import ndimage\n",
    "from scipy import misc\n",
    "from scipy import fftpack\n",
    "from scipy import optimize\n",
    "import scipy.io\n",
    "import skimage\n",
    "import imageio\n",
    "import colour as c\n",
    "import math\n",
    "import csv\n",
    "\n",
    "from ipywidgets import interact, interactive, fixed, interact_manual\n",
    "import ipywidgets as widgets\n",
    "\n",
    "import pandas as pd\n",
    "\n",
    "import cv2\n",
    "import time\n",
    "\n",
    "from datetime import datetime\n",
    "\n",
    "import os\n",
    "from fnmatch import fnmatch"
   ]
  },
  {
   "cell_type": "code",
   "execution_count": 3,
   "metadata": {},
   "outputs": [
    {
     "name": "stdout",
     "output_type": "stream",
     "text": [
      "Deleted file: /Volumes/jm_HDD/jm_MA_V1/CONTENT/00_NEW_CONTENT/ARRI_Encounters/1_B002C026_220414_B09C/._B002C026_220414_B09C.00000000.tif\n",
      "Deleted file: /Volumes/jm_HDD/jm_MA_V1/CONTENT/00_NEW_CONTENT/ARRI_Encounters/2_B002C016_220405_B09C/._B002C016_220405_B09C.01513213.tif\n",
      "Deleted file: /Volumes/jm_HDD/jm_MA_V1/CONTENT/00_NEW_CONTENT/ARRI_Encounters/4_F002C012_220412_R07V/._F002C012_220412_R07V.01119678.tif\n"
     ]
    }
   ],
   "source": [
    "import os\n",
    "import fnmatch\n",
    "\n",
    "def delete_files_with_pattern(root_path, pattern):\n",
    "    for foldername, subfolders, filenames in os.walk(root_path):\n",
    "        for filename in fnmatch.filter(filenames, pattern):\n",
    "            file_path = os.path.join(foldername, filename)\n",
    "            os.remove(file_path)\n",
    "            print(f\"Deleted file: {file_path}\")\n",
    "\n",
    "# Specify the root path and the pattern to match\n",
    "root_path = \"/Volumes/jm_HDD/jm_MA_V1/CONTENT/00_NEW_CONTENT/ARRI_Encounters\"\n",
    "file_pattern = \"._*\"  # Replace with your specific pattern\n",
    "\n",
    "delete_files_with_pattern(root_path,file_pattern)"
   ]
  },
  {
   "cell_type": "markdown",
   "metadata": {},
   "source": []
  },
  {
   "cell_type": "code",
   "execution_count": null,
   "metadata": {},
   "outputs": [],
   "source": []
  }
 ],
 "metadata": {
  "kernelspec": {
   "display_name": "base",
   "language": "python",
   "name": "python3"
  },
  "language_info": {
   "codemirror_mode": {
    "name": "ipython",
    "version": 3
   },
   "file_extension": ".py",
   "mimetype": "text/x-python",
   "name": "python",
   "nbconvert_exporter": "python",
   "pygments_lexer": "ipython3",
   "version": "3.9.13"
  }
 },
 "nbformat": 4,
 "nbformat_minor": 2
}
